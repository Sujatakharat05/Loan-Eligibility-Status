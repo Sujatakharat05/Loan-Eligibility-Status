{
 "cells": [
  {
   "cell_type": "markdown",
   "id": "20f492a8",
   "metadata": {},
   "source": [
    "# problem statement"
   ]
  },
  {
   "cell_type": "markdown",
   "id": "f6ec4e2d",
   "metadata": {},
   "source": [
    "A Company wants to automate the loan eligibility process based on customer details provided while filling online application form. The details filled by the customer are Gender, Marital Status, Education, Number of Dependents, Income of self and co applicant, Required Loan Amount, Required Loan Term, Credit History and others. The requirements are as follows:\n",
    "1.)Check eligibility of the Customer given the inputs described above.(Classification)"
   ]
  },
  {
   "cell_type": "markdown",
   "id": "7295d302",
   "metadata": {},
   "source": [
    "# 1.)Check eligibility of the Customer given the inputs described above.(Classification) "
   ]
  },
  {
   "cell_type": "markdown",
   "id": "28f584ec",
   "metadata": {},
   "source": [
    "# Read data set"
   ]
  },
  {
   "cell_type": "markdown",
   "id": "a660c419",
   "metadata": {},
   "source": [
    "import necessary libraries"
   ]
  },
  {
   "cell_type": "code",
   "execution_count": 1,
   "id": "4bd57032",
   "metadata": {},
   "outputs": [],
   "source": [
    "import pandas as pd\n",
    "from warnings import filterwarnings\n",
    "filterwarnings(\"ignore\")"
   ]
  },
  {
   "cell_type": "markdown",
   "id": "224b0f9d",
   "metadata": {},
   "source": [
    "# profile of data"
   ]
  },
  {
   "cell_type": "code",
   "execution_count": 2,
   "id": "caf0db14",
   "metadata": {},
   "outputs": [],
   "source": [
    "trd=pd.read_csv(\"downloads/train data for loan.csv\")"
   ]
  },
  {
   "cell_type": "code",
   "execution_count": 3,
   "id": "fb01b00b",
   "metadata": {},
   "outputs": [
    {
     "data": {
      "text/html": [
       "<div>\n",
       "<style scoped>\n",
       "    .dataframe tbody tr th:only-of-type {\n",
       "        vertical-align: middle;\n",
       "    }\n",
       "\n",
       "    .dataframe tbody tr th {\n",
       "        vertical-align: top;\n",
       "    }\n",
       "\n",
       "    .dataframe thead th {\n",
       "        text-align: right;\n",
       "    }\n",
       "</style>\n",
       "<table border=\"1\" class=\"dataframe\">\n",
       "  <thead>\n",
       "    <tr style=\"text-align: right;\">\n",
       "      <th></th>\n",
       "      <th>Loan_ID</th>\n",
       "      <th>Gender</th>\n",
       "      <th>Married</th>\n",
       "      <th>Dependents</th>\n",
       "      <th>Education</th>\n",
       "      <th>Self_Employed</th>\n",
       "      <th>ApplicantIncome</th>\n",
       "      <th>CoapplicantIncome</th>\n",
       "      <th>LoanAmount</th>\n",
       "      <th>Loan_Amount_Term</th>\n",
       "      <th>Credit_History</th>\n",
       "      <th>Property_Area</th>\n",
       "      <th>Loan_Status</th>\n",
       "    </tr>\n",
       "  </thead>\n",
       "  <tbody>\n",
       "    <tr>\n",
       "      <th>0</th>\n",
       "      <td>LP001002</td>\n",
       "      <td>Male</td>\n",
       "      <td>No</td>\n",
       "      <td>0</td>\n",
       "      <td>Graduate</td>\n",
       "      <td>No</td>\n",
       "      <td>5849.0</td>\n",
       "      <td>0.0</td>\n",
       "      <td>NaN</td>\n",
       "      <td>360.0</td>\n",
       "      <td>1.0</td>\n",
       "      <td>Urban</td>\n",
       "      <td>Y</td>\n",
       "    </tr>\n",
       "    <tr>\n",
       "      <th>1</th>\n",
       "      <td>LP001003</td>\n",
       "      <td>Male</td>\n",
       "      <td>Yes</td>\n",
       "      <td>1</td>\n",
       "      <td>Graduate</td>\n",
       "      <td>No</td>\n",
       "      <td>NaN</td>\n",
       "      <td>1508.0</td>\n",
       "      <td>128.0</td>\n",
       "      <td>360.0</td>\n",
       "      <td>1.0</td>\n",
       "      <td>Rural</td>\n",
       "      <td>N</td>\n",
       "    </tr>\n",
       "    <tr>\n",
       "      <th>2</th>\n",
       "      <td>LP001005</td>\n",
       "      <td>Male</td>\n",
       "      <td>Yes</td>\n",
       "      <td>0</td>\n",
       "      <td>Graduate</td>\n",
       "      <td>Yes</td>\n",
       "      <td>3000.0</td>\n",
       "      <td>0.0</td>\n",
       "      <td>66.0</td>\n",
       "      <td>360.0</td>\n",
       "      <td>1.0</td>\n",
       "      <td>Urban</td>\n",
       "      <td>Y</td>\n",
       "    </tr>\n",
       "    <tr>\n",
       "      <th>3</th>\n",
       "      <td>LP001006</td>\n",
       "      <td>Male</td>\n",
       "      <td>Yes</td>\n",
       "      <td>0</td>\n",
       "      <td>Not Graduate</td>\n",
       "      <td>No</td>\n",
       "      <td>2583.0</td>\n",
       "      <td>2358.0</td>\n",
       "      <td>120.0</td>\n",
       "      <td>360.0</td>\n",
       "      <td>1.0</td>\n",
       "      <td>Urban</td>\n",
       "      <td>Y</td>\n",
       "    </tr>\n",
       "    <tr>\n",
       "      <th>4</th>\n",
       "      <td>LP001008</td>\n",
       "      <td>Male</td>\n",
       "      <td>No</td>\n",
       "      <td>0</td>\n",
       "      <td>Graduate</td>\n",
       "      <td>No</td>\n",
       "      <td>6000.0</td>\n",
       "      <td>0.0</td>\n",
       "      <td>141.0</td>\n",
       "      <td>360.0</td>\n",
       "      <td>1.0</td>\n",
       "      <td>Urban</td>\n",
       "      <td>Y</td>\n",
       "    </tr>\n",
       "  </tbody>\n",
       "</table>\n",
       "</div>"
      ],
      "text/plain": [
       "    Loan_ID Gender Married Dependents     Education Self_Employed  \\\n",
       "0  LP001002   Male      No          0      Graduate            No   \n",
       "1  LP001003   Male     Yes          1      Graduate            No   \n",
       "2  LP001005   Male     Yes          0      Graduate           Yes   \n",
       "3  LP001006   Male     Yes          0  Not Graduate            No   \n",
       "4  LP001008   Male      No          0      Graduate            No   \n",
       "\n",
       "   ApplicantIncome  CoapplicantIncome  LoanAmount  Loan_Amount_Term  \\\n",
       "0           5849.0                0.0         NaN             360.0   \n",
       "1              NaN             1508.0       128.0             360.0   \n",
       "2           3000.0                0.0        66.0             360.0   \n",
       "3           2583.0             2358.0       120.0             360.0   \n",
       "4           6000.0                0.0       141.0             360.0   \n",
       "\n",
       "   Credit_History Property_Area Loan_Status  \n",
       "0             1.0         Urban           Y  \n",
       "1             1.0         Rural           N  \n",
       "2             1.0         Urban           Y  \n",
       "3             1.0         Urban           Y  \n",
       "4             1.0         Urban           Y  "
      ]
     },
     "execution_count": 3,
     "metadata": {},
     "output_type": "execute_result"
    }
   ],
   "source": [
    "trd.head()"
   ]
  },
  {
   "cell_type": "code",
   "execution_count": 4,
   "id": "9691f198",
   "metadata": {},
   "outputs": [],
   "source": [
    "tsd=pd.read_csv(\"downloads/test data for loan.csv\")"
   ]
  },
  {
   "cell_type": "code",
   "execution_count": 5,
   "id": "4731b788",
   "metadata": {},
   "outputs": [
    {
     "data": {
      "text/html": [
       "<div>\n",
       "<style scoped>\n",
       "    .dataframe tbody tr th:only-of-type {\n",
       "        vertical-align: middle;\n",
       "    }\n",
       "\n",
       "    .dataframe tbody tr th {\n",
       "        vertical-align: top;\n",
       "    }\n",
       "\n",
       "    .dataframe thead th {\n",
       "        text-align: right;\n",
       "    }\n",
       "</style>\n",
       "<table border=\"1\" class=\"dataframe\">\n",
       "  <thead>\n",
       "    <tr style=\"text-align: right;\">\n",
       "      <th></th>\n",
       "      <th>Loan_ID</th>\n",
       "      <th>Gender</th>\n",
       "      <th>Married</th>\n",
       "      <th>Dependents</th>\n",
       "      <th>Education</th>\n",
       "      <th>Self_Employed</th>\n",
       "      <th>ApplicantIncome</th>\n",
       "      <th>CoapplicantIncome</th>\n",
       "      <th>LoanAmount</th>\n",
       "      <th>Loan_Amount_Term</th>\n",
       "      <th>Credit_History</th>\n",
       "      <th>Property_Area</th>\n",
       "    </tr>\n",
       "  </thead>\n",
       "  <tbody>\n",
       "    <tr>\n",
       "      <th>0</th>\n",
       "      <td>LP001015</td>\n",
       "      <td>Male</td>\n",
       "      <td>Yes</td>\n",
       "      <td>0</td>\n",
       "      <td>Graduate</td>\n",
       "      <td>No</td>\n",
       "      <td>5720</td>\n",
       "      <td>0</td>\n",
       "      <td>110.0</td>\n",
       "      <td>360.0</td>\n",
       "      <td>1.0</td>\n",
       "      <td>Urban</td>\n",
       "    </tr>\n",
       "    <tr>\n",
       "      <th>1</th>\n",
       "      <td>LP001022</td>\n",
       "      <td>Male</td>\n",
       "      <td>Yes</td>\n",
       "      <td>1</td>\n",
       "      <td>Graduate</td>\n",
       "      <td>No</td>\n",
       "      <td>3076</td>\n",
       "      <td>1500</td>\n",
       "      <td>126.0</td>\n",
       "      <td>360.0</td>\n",
       "      <td>1.0</td>\n",
       "      <td>Urban</td>\n",
       "    </tr>\n",
       "    <tr>\n",
       "      <th>2</th>\n",
       "      <td>LP001031</td>\n",
       "      <td>Male</td>\n",
       "      <td>Yes</td>\n",
       "      <td>2</td>\n",
       "      <td>Graduate</td>\n",
       "      <td>No</td>\n",
       "      <td>5000</td>\n",
       "      <td>1800</td>\n",
       "      <td>208.0</td>\n",
       "      <td>360.0</td>\n",
       "      <td>1.0</td>\n",
       "      <td>Urban</td>\n",
       "    </tr>\n",
       "    <tr>\n",
       "      <th>3</th>\n",
       "      <td>LP001035</td>\n",
       "      <td>Male</td>\n",
       "      <td>Yes</td>\n",
       "      <td>2</td>\n",
       "      <td>Graduate</td>\n",
       "      <td>No</td>\n",
       "      <td>2340</td>\n",
       "      <td>2546</td>\n",
       "      <td>100.0</td>\n",
       "      <td>360.0</td>\n",
       "      <td>NaN</td>\n",
       "      <td>Urban</td>\n",
       "    </tr>\n",
       "    <tr>\n",
       "      <th>4</th>\n",
       "      <td>LP001051</td>\n",
       "      <td>Male</td>\n",
       "      <td>No</td>\n",
       "      <td>0</td>\n",
       "      <td>Not Graduate</td>\n",
       "      <td>No</td>\n",
       "      <td>3276</td>\n",
       "      <td>0</td>\n",
       "      <td>78.0</td>\n",
       "      <td>360.0</td>\n",
       "      <td>1.0</td>\n",
       "      <td>Urban</td>\n",
       "    </tr>\n",
       "  </tbody>\n",
       "</table>\n",
       "</div>"
      ],
      "text/plain": [
       "    Loan_ID Gender Married Dependents     Education Self_Employed  \\\n",
       "0  LP001015   Male     Yes          0      Graduate            No   \n",
       "1  LP001022   Male     Yes          1      Graduate            No   \n",
       "2  LP001031   Male     Yes          2      Graduate            No   \n",
       "3  LP001035   Male     Yes          2      Graduate            No   \n",
       "4  LP001051   Male      No          0  Not Graduate            No   \n",
       "\n",
       "   ApplicantIncome  CoapplicantIncome  LoanAmount  Loan_Amount_Term  \\\n",
       "0             5720                  0       110.0             360.0   \n",
       "1             3076               1500       126.0             360.0   \n",
       "2             5000               1800       208.0             360.0   \n",
       "3             2340               2546       100.0             360.0   \n",
       "4             3276                  0        78.0             360.0   \n",
       "\n",
       "   Credit_History Property_Area  \n",
       "0             1.0         Urban  \n",
       "1             1.0         Urban  \n",
       "2             1.0         Urban  \n",
       "3             NaN         Urban  \n",
       "4             1.0         Urban  "
      ]
     },
     "execution_count": 5,
     "metadata": {},
     "output_type": "execute_result"
    }
   ],
   "source": [
    "tsd.head()"
   ]
  },
  {
   "cell_type": "markdown",
   "id": "a34ec6cd",
   "metadata": {},
   "source": [
    "# treating missing data"
   ]
  },
  {
   "cell_type": "code",
   "execution_count": 6,
   "id": "32bf2228",
   "metadata": {},
   "outputs": [
    {
     "data": {
      "text/plain": [
       "Loan_ID               0\n",
       "Gender               15\n",
       "Married               3\n",
       "Dependents           15\n",
       "Education             1\n",
       "Self_Employed        32\n",
       "ApplicantIncome       2\n",
       "CoapplicantIncome     1\n",
       "LoanAmount           22\n",
       "Loan_Amount_Term     14\n",
       "Credit_History       50\n",
       "Property_Area         0\n",
       "Loan_Status           0\n",
       "dtype: int64"
      ]
     },
     "execution_count": 6,
     "metadata": {},
     "output_type": "execute_result"
    }
   ],
   "source": [
    "trd.isna().sum()"
   ]
  },
  {
   "cell_type": "code",
   "execution_count": 7,
   "id": "23b82435",
   "metadata": {},
   "outputs": [
    {
     "data": {
      "text/plain": [
       "Loan_ID               0\n",
       "Gender               11\n",
       "Married               0\n",
       "Dependents           10\n",
       "Education             0\n",
       "Self_Employed        23\n",
       "ApplicantIncome       0\n",
       "CoapplicantIncome     0\n",
       "LoanAmount            5\n",
       "Loan_Amount_Term      6\n",
       "Credit_History       29\n",
       "Property_Area         0\n",
       "dtype: int64"
      ]
     },
     "execution_count": 7,
     "metadata": {},
     "output_type": "execute_result"
    }
   ],
   "source": [
    "tsd.isna().sum()"
   ]
  },
  {
   "cell_type": "raw",
   "id": "a2a0386a",
   "metadata": {},
   "source": [
    "# if the data is categorical we used mode to replace the missing data with the help of fillna() and if the data is continuous we replace missing values with mean "
   ]
  },
  {
   "cell_type": "code",
   "execution_count": 8,
   "id": "5fef92e1",
   "metadata": {},
   "outputs": [],
   "source": [
    "for i in tsd.columns:\n",
    "    if(trd[i].dtypes == \"object\"):\n",
    "        x = trd[i].mode()[0]\n",
    "        trd[i] = trd[i].fillna(x)\n",
    "        tsd[i] = tsd[i].fillna(x)\n",
    "    else:\n",
    "        x = trd[i].mean()\n",
    "        trd[i] = trd[i].fillna(x)\n",
    "        tsd[i] = tsd[i].fillna(x)"
   ]
  },
  {
   "cell_type": "markdown",
   "id": "53b61f56",
   "metadata": {},
   "source": [
    "# outliers "
   ]
  },
  {
   "cell_type": "raw",
   "id": "9a57678b",
   "metadata": {},
   "source": [
    "we have to separate the continuous and categorical data by loop "
   ]
  },
  {
   "cell_type": "markdown",
   "id": "9578ba64",
   "metadata": {},
   "source": [
    "outliers check always on continues columns"
   ]
  },
  {
   "cell_type": "code",
   "execution_count": 9,
   "id": "4e995491",
   "metadata": {},
   "outputs": [],
   "source": [
    "con=[]\n",
    "cat=[]\n",
    "for i in trd.columns:\n",
    "    if(trd[i].dtypes==\"object\"):\n",
    "        cat.append(i)\n",
    "    else:\n",
    "        con.append(i)"
   ]
  },
  {
   "cell_type": "code",
   "execution_count": 10,
   "id": "86056eca",
   "metadata": {},
   "outputs": [
    {
     "data": {
      "text/plain": [
       "['ApplicantIncome',\n",
       " 'CoapplicantIncome',\n",
       " 'LoanAmount',\n",
       " 'Loan_Amount_Term',\n",
       " 'Credit_History']"
      ]
     },
     "execution_count": 10,
     "metadata": {},
     "output_type": "execute_result"
    }
   ],
   "source": [
    "con"
   ]
  },
  {
   "cell_type": "code",
   "execution_count": 11,
   "id": "89a0c6a8",
   "metadata": {},
   "outputs": [
    {
     "data": {
      "text/plain": [
       "['Loan_ID',\n",
       " 'Gender',\n",
       " 'Married',\n",
       " 'Dependents',\n",
       " 'Education',\n",
       " 'Self_Employed',\n",
       " 'Property_Area',\n",
       " 'Loan_Status']"
      ]
     },
     "execution_count": 11,
     "metadata": {},
     "output_type": "execute_result"
    }
   ],
   "source": [
    "cat"
   ]
  },
  {
   "cell_type": "raw",
   "id": "7ed53027",
   "metadata": {},
   "source": [
    "to brings the values at same scale we use standarscaler.\n",
    "standarscaler gives us values in form of arrays we need convert it into dataframe."
   ]
  },
  {
   "cell_type": "code",
   "execution_count": 12,
   "id": "d1b50969",
   "metadata": {},
   "outputs": [],
   "source": [
    "from sklearn.preprocessing import StandardScaler\n",
    "ss = StandardScaler()\n",
    "Q = pd.DataFrame(ss.fit_transform(trd[con]),columns=con)"
   ]
  },
  {
   "cell_type": "raw",
   "id": "d1788db8",
   "metadata": {},
   "source": [
    "z score values should always between -3 to +3"
   ]
  },
  {
   "cell_type": "code",
   "execution_count": 13,
   "id": "8103b7cf",
   "metadata": {},
   "outputs": [],
   "source": [
    "outliers = []\n",
    "for i in Q.columns:\n",
    "    outliers.extend(list(Q[(Q[i]<-3)|(Q[i]>3)].index))\n",
    "    \n",
    "from numpy import unique\n",
    "outliers = unique(outliers)"
   ]
  },
  {
   "cell_type": "code",
   "execution_count": 14,
   "id": "15aa156c",
   "metadata": {},
   "outputs": [],
   "source": [
    "trd = trd.drop(index = outliers,axis=0)"
   ]
  },
  {
   "cell_type": "code",
   "execution_count": 15,
   "id": "02edb72a",
   "metadata": {},
   "outputs": [
    {
     "data": {
      "text/plain": [
       "(577, 13)"
      ]
     },
     "execution_count": 15,
     "metadata": {},
     "output_type": "execute_result"
    }
   ],
   "source": [
    "trd.shape"
   ]
  },
  {
   "cell_type": "code",
   "execution_count": 16,
   "id": "7572e2a7",
   "metadata": {},
   "outputs": [],
   "source": [
    "trd.index = range(0,trd.shape[0])"
   ]
  },
  {
   "cell_type": "markdown",
   "id": "350c0d23",
   "metadata": {},
   "source": [
    "# EDA (Exploratory data analysis)"
   ]
  },
  {
   "cell_type": "raw",
   "id": "6bc9d28a",
   "metadata": {},
   "source": [
    "univariate analysis"
   ]
  },
  {
   "cell_type": "code",
   "execution_count": 17,
   "id": "51d6a911",
   "metadata": {},
   "outputs": [
    {
     "data": {
      "text/plain": [
       "ApplicantIncome      2.145688\n",
       "CoapplicantIncome    1.351359\n",
       "LoanAmount           1.113132\n",
       "Loan_Amount_Term    -2.077031\n",
       "Credit_History      -1.921860\n",
       "dtype: float64"
      ]
     },
     "execution_count": 17,
     "metadata": {},
     "output_type": "execute_result"
    }
   ],
   "source": [
    "trd[con].skew()"
   ]
  },
  {
   "cell_type": "markdown",
   "id": "7ff93732",
   "metadata": {},
   "source": [
    "here is minimum skewness so we can neglect it"
   ]
  },
  {
   "cell_type": "raw",
   "id": "6e6fcabf",
   "metadata": {},
   "source": [
    "if the y is categorical and x is continuous we perform ANOVA"
   ]
  },
  {
   "cell_type": "raw",
   "id": "c2012ca2",
   "metadata": {},
   "source": [
    "pval are less than 0.05 then both are dependent ."
   ]
  },
  {
   "cell_type": "raw",
   "id": "a40336ba",
   "metadata": {},
   "source": [
    "ANOVA IS BIVARIATE ANALYSIS METHOD..IF Y IS CATEGORICAL AND X IS CONTINUOUS WE USED ANOVA METHOD..ANOVA GIVES US PVALUES ON THE BASIS OF PVALUES WE DECIDE WHETHER THE VARIABLE IS DEPENDENT OR INDEPENTDENT .."
   ]
  },
  {
   "cell_type": "code",
   "execution_count": 18,
   "id": "8fe86d9a",
   "metadata": {},
   "outputs": [],
   "source": [
    "def ANOVA(df,cat,con):\n",
    "    from statsmodels.formula.api import ols\n",
    "    from statsmodels.stats.anova import anova_lm\n",
    "    rel=con+\"~\"+cat\n",
    "    model=ols(rel,df).fit()\n",
    "    W=anova_lm(model)\n",
    "    pval=round(W.iloc[0:1,4][0],4)\n",
    "    return pval"
   ]
  },
  {
   "cell_type": "code",
   "execution_count": 19,
   "id": "24863e88",
   "metadata": {},
   "outputs": [
    {
     "name": "stdout",
     "output_type": "stream",
     "text": [
      "Loan_status vs ApplicantIncome pval--> 0.8943\n",
      "Loan_status vs CoapplicantIncome pval--> 0.2821\n",
      "Loan_status vs LoanAmount pval--> 0.3975\n",
      "Loan_status vs Loan_Amount_Term pval--> 0.6636\n",
      "Loan_status vs Credit_History pval--> 0.0\n"
     ]
    }
   ],
   "source": [
    "for i in con:\n",
    "    p=ANOVA(trd,\"Loan_Status\",i)\n",
    "    print(\"Loan_status vs\",i,\"pval-->\",p)"
   ]
  },
  {
   "cell_type": "markdown",
   "id": "2ce6667a",
   "metadata": {},
   "source": [
    "# Preprocessing"
   ]
  },
  {
   "cell_type": "code",
   "execution_count": 20,
   "id": "7b0eab0a",
   "metadata": {},
   "outputs": [],
   "source": [
    "Y_trd=trd[[\"Loan_Status\"]]\n",
    "X_trd=trd.drop(labels=[\"Loan_ID\",\"Loan_Status\"],axis=1)"
   ]
  },
  {
   "cell_type": "code",
   "execution_count": 21,
   "id": "d1dca6ad",
   "metadata": {},
   "outputs": [],
   "source": [
    "from PM12 import catcon\n",
    "cat,con=catcon(X_trd)"
   ]
  },
  {
   "cell_type": "code",
   "execution_count": 22,
   "id": "c71fd1c5",
   "metadata": {},
   "outputs": [
    {
     "data": {
      "text/plain": [
       "['Gender',\n",
       " 'Married',\n",
       " 'Dependents',\n",
       " 'Education',\n",
       " 'Self_Employed',\n",
       " 'Property_Area']"
      ]
     },
     "execution_count": 22,
     "metadata": {},
     "output_type": "execute_result"
    }
   ],
   "source": [
    "cat"
   ]
  },
  {
   "cell_type": "code",
   "execution_count": 23,
   "id": "89dda5dc",
   "metadata": {},
   "outputs": [
    {
     "data": {
      "text/plain": [
       "['ApplicantIncome',\n",
       " 'CoapplicantIncome',\n",
       " 'LoanAmount',\n",
       " 'Loan_Amount_Term',\n",
       " 'Credit_History']"
      ]
     },
     "execution_count": 23,
     "metadata": {},
     "output_type": "execute_result"
    }
   ],
   "source": [
    "con"
   ]
  },
  {
   "cell_type": "markdown",
   "id": "da9e0327",
   "metadata": {},
   "source": [
    "MinMaxScaler scales the data to a fixed range, typically between 0 and 1. "
   ]
  },
  {
   "cell_type": "code",
   "execution_count": 24,
   "id": "41b0c0be",
   "metadata": {},
   "outputs": [],
   "source": [
    "from sklearn.preprocessing import MinMaxScaler\n",
    "mm = MinMaxScaler()\n",
    "x1_trd = pd.DataFrame(mm.fit_transform(X_trd[con]),columns=con)\n",
    "x2_trd = pd.get_dummies(X_trd[cat])\n",
    "Xnew_trd = x1_trd.join(x2_trd)"
   ]
  },
  {
   "cell_type": "code",
   "execution_count": 25,
   "id": "dd9be6cc",
   "metadata": {},
   "outputs": [],
   "source": [
    "from sklearn.model_selection import train_test_split\n",
    "xtrain,xtest,ytrain,ytest=train_test_split(Xnew_trd,Y_trd,test_size=0.2,random_state=21)"
   ]
  },
  {
   "cell_type": "raw",
   "id": "fbf9839e",
   "metadata": {},
   "source": [
    "logistics regresssion is used in classification problem"
   ]
  },
  {
   "cell_type": "markdown",
   "id": "2726108f",
   "metadata": {},
   "source": [
    "# Logistic Regression"
   ]
  },
  {
   "cell_type": "code",
   "execution_count": 26,
   "id": "f1b89164",
   "metadata": {},
   "outputs": [],
   "source": [
    "from sklearn.linear_model import LogisticRegression\n",
    "lr=LogisticRegression()\n",
    "model=lr.fit(xtrain,ytrain)\n",
    "tr_pred=model.predict(xtrain)\n",
    "ts_pred=model.predict(xtest)\n",
    "from sklearn.metrics import accuracy_score\n",
    "tr_accuracy=accuracy_score(ytrain,tr_pred)\n",
    "ts_accuracy=accuracy_score(ytest,ts_pred)\n"
   ]
  },
  {
   "cell_type": "code",
   "execution_count": 27,
   "id": "6a17c57f",
   "metadata": {},
   "outputs": [
    {
     "data": {
      "text/plain": [
       "0.8156182212581344"
      ]
     },
     "execution_count": 27,
     "metadata": {},
     "output_type": "execute_result"
    }
   ],
   "source": [
    "tr_accuracy"
   ]
  },
  {
   "cell_type": "code",
   "execution_count": 28,
   "id": "da960e1e",
   "metadata": {},
   "outputs": [
    {
     "data": {
      "text/plain": [
       "0.8448275862068966"
      ]
     },
     "execution_count": 28,
     "metadata": {},
     "output_type": "execute_result"
    }
   ],
   "source": [
    "ts_accuracy"
   ]
  },
  {
   "cell_type": "markdown",
   "id": "845da61a",
   "metadata": {},
   "source": [
    "# Decision tree"
   ]
  },
  {
   "cell_type": "raw",
   "id": "495528ea",
   "metadata": {},
   "source": [
    "decision tree is used for both regresssion and classification"
   ]
  },
  {
   "cell_type": "code",
   "execution_count": 29,
   "id": "4307181a",
   "metadata": {},
   "outputs": [],
   "source": [
    "def modeller(mo):\n",
    "    model=mo.fit(xtrain,ytrain)\n",
    "    tr_pred=model.predict(xtrain)\n",
    "    ts_pred=model.predict(xtest)\n",
    "    from sklearn.metrics import accuracy_score\n",
    "    tr_accuracy=round(accuracy_score(ytrain,tr_pred),2)\n",
    "    ts_accuracy=round(accuracy_score(ytest,ts_pred),2)\n",
    "    return tr_accuracy,ts_accuracy"
   ]
  },
  {
   "cell_type": "code",
   "execution_count": 30,
   "id": "52b4dfc5",
   "metadata": {},
   "outputs": [
    {
     "data": {
      "text/plain": [
       "(1.0, 0.72)"
      ]
     },
     "execution_count": 30,
     "metadata": {},
     "output_type": "execute_result"
    }
   ],
   "source": [
    "from sklearn.tree import DecisionTreeClassifier\n",
    "dtc=DecisionTreeClassifier()\n",
    "modeller(dtc)"
   ]
  },
  {
   "cell_type": "raw",
   "id": "eeff275b",
   "metadata": {},
   "source": [
    "prunning (max_depth)"
   ]
  },
  {
   "cell_type": "code",
   "execution_count": 31,
   "id": "f58cdaa6",
   "metadata": {},
   "outputs": [
    {
     "name": "stdout",
     "output_type": "stream",
     "text": [
      "2 (0.81, 0.84)\n",
      "3 (0.83, 0.83)\n",
      "4 (0.84, 0.81)\n",
      "5 (0.85, 0.8)\n",
      "6 (0.87, 0.8)\n",
      "7 (0.9, 0.77)\n",
      "8 (0.92, 0.73)\n",
      "9 (0.95, 0.71)\n",
      "10 (0.97, 0.69)\n",
      "11 (0.98, 0.7)\n",
      "12 (0.99, 0.7)\n",
      "13 (1.0, 0.7)\n",
      "14 (1.0, 0.68)\n",
      "15 (1.0, 0.68)\n",
      "16 (1.0, 0.68)\n",
      "17 (1.0, 0.68)\n",
      "18 (1.0, 0.68)\n",
      "19 (1.0, 0.68)\n"
     ]
    }
   ],
   "source": [
    "for i in range(2,20):\n",
    "    dtc=DecisionTreeClassifier(random_state=21,max_depth=i)\n",
    "    print(i,modeller(dtc))"
   ]
  },
  {
   "cell_type": "markdown",
   "id": "3ab2c7ed",
   "metadata": {},
   "source": [
    "at index no.3 we got best result less overfit model"
   ]
  },
  {
   "cell_type": "markdown",
   "id": "94a5db60",
   "metadata": {},
   "source": [
    "# KNN classifier"
   ]
  },
  {
   "cell_type": "markdown",
   "id": "188798e0",
   "metadata": {},
   "source": [
    "KNN stands for kneighbors classifier"
   ]
  },
  {
   "cell_type": "code",
   "execution_count": 32,
   "id": "cc41c103",
   "metadata": {},
   "outputs": [
    {
     "data": {
      "text/plain": [
       "(0.81, 0.75)"
      ]
     },
     "execution_count": 32,
     "metadata": {},
     "output_type": "execute_result"
    }
   ],
   "source": [
    "from sklearn.neighbors import KNeighborsClassifier\n",
    "knc=KNeighborsClassifier()\n",
    "modeller(knc)"
   ]
  },
  {
   "cell_type": "code",
   "execution_count": 33,
   "id": "fbb8097c",
   "metadata": {},
   "outputs": [
    {
     "name": "stdout",
     "output_type": "stream",
     "text": [
      "2 (0.9, 0.69)\n",
      "3 (0.85, 0.75)\n",
      "4 (0.86, 0.72)\n",
      "5 (0.81, 0.75)\n",
      "6 (0.8, 0.72)\n",
      "7 (0.77, 0.7)\n",
      "8 (0.79, 0.71)\n",
      "9 (0.76, 0.73)\n",
      "10 (0.76, 0.72)\n",
      "11 (0.75, 0.74)\n",
      "12 (0.76, 0.74)\n",
      "13 (0.74, 0.75)\n",
      "14 (0.74, 0.76)\n",
      "15 (0.74, 0.77)\n",
      "16 (0.74, 0.76)\n",
      "17 (0.72, 0.77)\n",
      "18 (0.73, 0.76)\n",
      "19 (0.72, 0.77)\n"
     ]
    }
   ],
   "source": [
    "for i in range(2,20):\n",
    "    knc = KNeighborsClassifier(n_neighbors=i)\n",
    "    print(i,modeller(knc))"
   ]
  },
  {
   "cell_type": "markdown",
   "id": "1dde1eed",
   "metadata": {},
   "source": [
    "# best model"
   ]
  },
  {
   "cell_type": "markdown",
   "id": "b0ca2d8e",
   "metadata": {},
   "source": [
    "train the model with entire data in training set"
   ]
  },
  {
   "cell_type": "code",
   "execution_count": 34,
   "id": "113cef59",
   "metadata": {},
   "outputs": [],
   "source": [
    "dtc=DecisionTreeClassifier(random_state=21,max_depth=3)\n",
    "finmodel=dtc.fit(Xnew_trd,Y_trd)"
   ]
  },
  {
   "cell_type": "markdown",
   "id": "d855475f",
   "metadata": {},
   "source": [
    "# data prepartion for testing set"
   ]
  },
  {
   "cell_type": "code",
   "execution_count": 35,
   "id": "7d1e49b6",
   "metadata": {},
   "outputs": [
    {
     "data": {
      "text/plain": [
       "Index(['ApplicantIncome', 'CoapplicantIncome', 'LoanAmount',\n",
       "       'Loan_Amount_Term', 'Credit_History', 'Gender_Female', 'Gender_Male',\n",
       "       'Married_No', 'Married_Yes', 'Dependents_0', 'Dependents_1',\n",
       "       'Dependents_2', 'Dependents_3+', 'Education_Graduate',\n",
       "       'Education_Not Graduate', 'Self_Employed_No', 'Self_Employed_Yes',\n",
       "       'Property_Area_Rural', 'Property_Area_Semiurban',\n",
       "       'Property_Area_Urban'],\n",
       "      dtype='object')"
      ]
     },
     "execution_count": 35,
     "metadata": {},
     "output_type": "execute_result"
    }
   ],
   "source": [
    "xtrain.columns"
   ]
  },
  {
   "cell_type": "code",
   "execution_count": 36,
   "id": "752b55ef",
   "metadata": {},
   "outputs": [],
   "source": [
    "X_tsd=tsd.drop(labels=[\"Loan_ID\"],axis=1)"
   ]
  },
  {
   "cell_type": "code",
   "execution_count": 37,
   "id": "50c6a26e",
   "metadata": {},
   "outputs": [],
   "source": [
    "from PM12 import catcon\n",
    "cat,con=catcon(X_tsd)"
   ]
  },
  {
   "cell_type": "code",
   "execution_count": 38,
   "id": "9f2c704b",
   "metadata": {},
   "outputs": [
    {
     "data": {
      "text/plain": [
       "['ApplicantIncome',\n",
       " 'CoapplicantIncome',\n",
       " 'LoanAmount',\n",
       " 'Loan_Amount_Term',\n",
       " 'Credit_History']"
      ]
     },
     "execution_count": 38,
     "metadata": {},
     "output_type": "execute_result"
    }
   ],
   "source": [
    "con"
   ]
  },
  {
   "cell_type": "code",
   "execution_count": 39,
   "id": "814764a9",
   "metadata": {},
   "outputs": [
    {
     "data": {
      "text/plain": [
       "['Gender',\n",
       " 'Married',\n",
       " 'Dependents',\n",
       " 'Education',\n",
       " 'Self_Employed',\n",
       " 'Property_Area']"
      ]
     },
     "execution_count": 39,
     "metadata": {},
     "output_type": "execute_result"
    }
   ],
   "source": [
    "cat"
   ]
  },
  {
   "cell_type": "code",
   "execution_count": 40,
   "id": "3c765bb2",
   "metadata": {},
   "outputs": [],
   "source": [
    "X1_tsd=pd.DataFrame(mm.transform(X_tsd[con]),columns=con)\n",
    "X2_tsd=pd.get_dummies(X_tsd[cat])"
   ]
  },
  {
   "cell_type": "code",
   "execution_count": 41,
   "id": "02d21811",
   "metadata": {},
   "outputs": [],
   "source": [
    "Xnew_tsd=X1_tsd.join(X2_tsd)"
   ]
  },
  {
   "cell_type": "code",
   "execution_count": 42,
   "id": "89d59f33",
   "metadata": {},
   "outputs": [],
   "source": [
    "#Xnew_tsd[Xnew_trd.columns]"
   ]
  },
  {
   "cell_type": "markdown",
   "id": "78bfda6f",
   "metadata": {},
   "source": [
    "above is the commant to check the columns which is present in Xnew_trd and Xnew_tsd"
   ]
  },
  {
   "cell_type": "code",
   "execution_count": 43,
   "id": "c8a5fd3c",
   "metadata": {},
   "outputs": [],
   "source": [
    "pred_LS=finmodel.predict(Xnew_tsd)"
   ]
  },
  {
   "cell_type": "markdown",
   "id": "4d6a00e1",
   "metadata": {},
   "source": [
    "# final Dataframe"
   ]
  },
  {
   "cell_type": "code",
   "execution_count": 44,
   "id": "c766eef3",
   "metadata": {},
   "outputs": [],
   "source": [
    "F=tsd[[\"Loan_ID\"]]\n",
    "F[\"Loan_Status\"]=pred_LS"
   ]
  },
  {
   "cell_type": "code",
   "execution_count": 45,
   "id": "4f0d3ceb",
   "metadata": {},
   "outputs": [],
   "source": [
    "F.to_csv(\"desktop/Loan_status_ans_by_sir.csv\")"
   ]
  },
  {
   "cell_type": "code",
   "execution_count": 46,
   "id": "00eeb157",
   "metadata": {},
   "outputs": [
    {
     "data": {
      "text/html": [
       "<div>\n",
       "<style scoped>\n",
       "    .dataframe tbody tr th:only-of-type {\n",
       "        vertical-align: middle;\n",
       "    }\n",
       "\n",
       "    .dataframe tbody tr th {\n",
       "        vertical-align: top;\n",
       "    }\n",
       "\n",
       "    .dataframe thead th {\n",
       "        text-align: right;\n",
       "    }\n",
       "</style>\n",
       "<table border=\"1\" class=\"dataframe\">\n",
       "  <thead>\n",
       "    <tr style=\"text-align: right;\">\n",
       "      <th></th>\n",
       "      <th>Loan_ID</th>\n",
       "      <th>Loan_Status</th>\n",
       "    </tr>\n",
       "  </thead>\n",
       "  <tbody>\n",
       "    <tr>\n",
       "      <th>0</th>\n",
       "      <td>LP001015</td>\n",
       "      <td>Y</td>\n",
       "    </tr>\n",
       "    <tr>\n",
       "      <th>1</th>\n",
       "      <td>LP001022</td>\n",
       "      <td>Y</td>\n",
       "    </tr>\n",
       "    <tr>\n",
       "      <th>2</th>\n",
       "      <td>LP001031</td>\n",
       "      <td>Y</td>\n",
       "    </tr>\n",
       "    <tr>\n",
       "      <th>3</th>\n",
       "      <td>LP001035</td>\n",
       "      <td>Y</td>\n",
       "    </tr>\n",
       "    <tr>\n",
       "      <th>4</th>\n",
       "      <td>LP001051</td>\n",
       "      <td>Y</td>\n",
       "    </tr>\n",
       "    <tr>\n",
       "      <th>...</th>\n",
       "      <td>...</td>\n",
       "      <td>...</td>\n",
       "    </tr>\n",
       "    <tr>\n",
       "      <th>362</th>\n",
       "      <td>LP002971</td>\n",
       "      <td>Y</td>\n",
       "    </tr>\n",
       "    <tr>\n",
       "      <th>363</th>\n",
       "      <td>LP002975</td>\n",
       "      <td>Y</td>\n",
       "    </tr>\n",
       "    <tr>\n",
       "      <th>364</th>\n",
       "      <td>LP002980</td>\n",
       "      <td>Y</td>\n",
       "    </tr>\n",
       "    <tr>\n",
       "      <th>365</th>\n",
       "      <td>LP002986</td>\n",
       "      <td>Y</td>\n",
       "    </tr>\n",
       "    <tr>\n",
       "      <th>366</th>\n",
       "      <td>LP002989</td>\n",
       "      <td>Y</td>\n",
       "    </tr>\n",
       "  </tbody>\n",
       "</table>\n",
       "<p>367 rows × 2 columns</p>\n",
       "</div>"
      ],
      "text/plain": [
       "      Loan_ID Loan_Status\n",
       "0    LP001015           Y\n",
       "1    LP001022           Y\n",
       "2    LP001031           Y\n",
       "3    LP001035           Y\n",
       "4    LP001051           Y\n",
       "..        ...         ...\n",
       "362  LP002971           Y\n",
       "363  LP002975           Y\n",
       "364  LP002980           Y\n",
       "365  LP002986           Y\n",
       "366  LP002989           Y\n",
       "\n",
       "[367 rows x 2 columns]"
      ]
     },
     "execution_count": 46,
     "metadata": {},
     "output_type": "execute_result"
    }
   ],
   "source": [
    "F"
   ]
  },
  {
   "cell_type": "markdown",
   "id": "fba261fe",
   "metadata": {},
   "source": [
    "# If customer is not eligible for the input required amount and duration: 2. what can be amount for the given duration.(Regression) "
   ]
  },
  {
   "cell_type": "raw",
   "id": "a513f0bd",
   "metadata": {},
   "source": [
    "# Jinko X amt ka loan nai mila, unko kitne ka loan mil sakta hai?¶"
   ]
  },
  {
   "cell_type": "code",
   "execution_count": 47,
   "id": "56db622d",
   "metadata": {},
   "outputs": [],
   "source": [
    "F[\"Amount\"]=tsd.LoanAmount"
   ]
  },
  {
   "cell_type": "code",
   "execution_count": 48,
   "id": "220140f8",
   "metadata": {},
   "outputs": [],
   "source": [
    "pred_set=F[F.Loan_Status==\"N\"]"
   ]
  },
  {
   "cell_type": "code",
   "execution_count": 49,
   "id": "a05507d3",
   "metadata": {},
   "outputs": [
    {
     "data": {
      "text/html": [
       "<div>\n",
       "<style scoped>\n",
       "    .dataframe tbody tr th:only-of-type {\n",
       "        vertical-align: middle;\n",
       "    }\n",
       "\n",
       "    .dataframe tbody tr th {\n",
       "        vertical-align: top;\n",
       "    }\n",
       "\n",
       "    .dataframe thead th {\n",
       "        text-align: right;\n",
       "    }\n",
       "</style>\n",
       "<table border=\"1\" class=\"dataframe\">\n",
       "  <thead>\n",
       "    <tr style=\"text-align: right;\">\n",
       "      <th></th>\n",
       "      <th>Loan_ID</th>\n",
       "      <th>Loan_Status</th>\n",
       "      <th>Amount</th>\n",
       "    </tr>\n",
       "  </thead>\n",
       "  <tbody>\n",
       "    <tr>\n",
       "      <th>7</th>\n",
       "      <td>LP001056</td>\n",
       "      <td>N</td>\n",
       "      <td>147.0</td>\n",
       "    </tr>\n",
       "    <tr>\n",
       "      <th>13</th>\n",
       "      <td>LP001094</td>\n",
       "      <td>N</td>\n",
       "      <td>166.0</td>\n",
       "    </tr>\n",
       "    <tr>\n",
       "      <th>35</th>\n",
       "      <td>LP001203</td>\n",
       "      <td>N</td>\n",
       "      <td>176.0</td>\n",
       "    </tr>\n",
       "    <tr>\n",
       "      <th>55</th>\n",
       "      <td>LP001313</td>\n",
       "      <td>N</td>\n",
       "      <td>130.0</td>\n",
       "    </tr>\n",
       "    <tr>\n",
       "      <th>58</th>\n",
       "      <td>LP001323</td>\n",
       "      <td>N</td>\n",
       "      <td>176.0</td>\n",
       "    </tr>\n",
       "    <tr>\n",
       "      <th>...</th>\n",
       "      <td>...</td>\n",
       "      <td>...</td>\n",
       "      <td>...</td>\n",
       "    </tr>\n",
       "    <tr>\n",
       "      <th>317</th>\n",
       "      <td>LP002774</td>\n",
       "      <td>N</td>\n",
       "      <td>67.0</td>\n",
       "    </tr>\n",
       "    <tr>\n",
       "      <th>325</th>\n",
       "      <td>LP002802</td>\n",
       "      <td>N</td>\n",
       "      <td>95.0</td>\n",
       "    </tr>\n",
       "    <tr>\n",
       "      <th>339</th>\n",
       "      <td>LP002858</td>\n",
       "      <td>N</td>\n",
       "      <td>162.0</td>\n",
       "    </tr>\n",
       "    <tr>\n",
       "      <th>346</th>\n",
       "      <td>LP002879</td>\n",
       "      <td>N</td>\n",
       "      <td>133.0</td>\n",
       "    </tr>\n",
       "    <tr>\n",
       "      <th>354</th>\n",
       "      <td>LP002921</td>\n",
       "      <td>N</td>\n",
       "      <td>158.0</td>\n",
       "    </tr>\n",
       "  </tbody>\n",
       "</table>\n",
       "<p>61 rows × 3 columns</p>\n",
       "</div>"
      ],
      "text/plain": [
       "      Loan_ID Loan_Status  Amount\n",
       "7    LP001056           N   147.0\n",
       "13   LP001094           N   166.0\n",
       "35   LP001203           N   176.0\n",
       "55   LP001313           N   130.0\n",
       "58   LP001323           N   176.0\n",
       "..        ...         ...     ...\n",
       "317  LP002774           N    67.0\n",
       "325  LP002802           N    95.0\n",
       "339  LP002858           N   162.0\n",
       "346  LP002879           N   133.0\n",
       "354  LP002921           N   158.0\n",
       "\n",
       "[61 rows x 3 columns]"
      ]
     },
     "execution_count": 49,
     "metadata": {},
     "output_type": "execute_result"
    }
   ],
   "source": [
    "pred_set"
   ]
  },
  {
   "cell_type": "markdown",
   "id": "07261a3c",
   "metadata": {},
   "source": [
    "# Data preparation"
   ]
  },
  {
   "cell_type": "code",
   "execution_count": 50,
   "id": "cf218995",
   "metadata": {},
   "outputs": [],
   "source": [
    "X_trd=trd.drop(labels=[\"Loan_ID\",\"LoanAmount\"],axis=1)\n",
    "Y_trd=trd[[\"LoanAmount\"]]\n",
    "\n"
   ]
  },
  {
   "cell_type": "code",
   "execution_count": 51,
   "id": "4d7e1ff5",
   "metadata": {},
   "outputs": [],
   "source": [
    "from PM12 import catcon\n",
    "cat,con=catcon(X_trd)"
   ]
  },
  {
   "cell_type": "code",
   "execution_count": 52,
   "id": "ee549aef",
   "metadata": {},
   "outputs": [],
   "source": [
    "from sklearn.preprocessing import MinMaxScaler\n",
    "mm=MinMaxScaler()\n",
    "X1_trd=pd.DataFrame(mm.fit_transform(X_trd[con]),columns=con)\n",
    "X2_trd=pd.get_dummies(X_trd[cat])\n",
    "Xnew_trd=X1_trd.join(X2_trd)"
   ]
  },
  {
   "cell_type": "code",
   "execution_count": 53,
   "id": "3b7a3ca9",
   "metadata": {},
   "outputs": [
    {
     "data": {
      "text/html": [
       "<div>\n",
       "<style scoped>\n",
       "    .dataframe tbody tr th:only-of-type {\n",
       "        vertical-align: middle;\n",
       "    }\n",
       "\n",
       "    .dataframe tbody tr th {\n",
       "        vertical-align: top;\n",
       "    }\n",
       "\n",
       "    .dataframe thead th {\n",
       "        text-align: right;\n",
       "    }\n",
       "</style>\n",
       "<table border=\"1\" class=\"dataframe\">\n",
       "  <thead>\n",
       "    <tr style=\"text-align: right;\">\n",
       "      <th></th>\n",
       "      <th>ApplicantIncome</th>\n",
       "      <th>CoapplicantIncome</th>\n",
       "      <th>Loan_Amount_Term</th>\n",
       "      <th>Credit_History</th>\n",
       "      <th>Gender_Female</th>\n",
       "      <th>Gender_Male</th>\n",
       "      <th>Married_No</th>\n",
       "      <th>Married_Yes</th>\n",
       "      <th>Dependents_0</th>\n",
       "      <th>Dependents_1</th>\n",
       "      <th>...</th>\n",
       "      <th>Dependents_3+</th>\n",
       "      <th>Education_Graduate</th>\n",
       "      <th>Education_Not Graduate</th>\n",
       "      <th>Self_Employed_No</th>\n",
       "      <th>Self_Employed_Yes</th>\n",
       "      <th>Property_Area_Rural</th>\n",
       "      <th>Property_Area_Semiurban</th>\n",
       "      <th>Property_Area_Urban</th>\n",
       "      <th>Loan_Status_N</th>\n",
       "      <th>Loan_Status_Y</th>\n",
       "    </tr>\n",
       "  </thead>\n",
       "  <tbody>\n",
       "    <tr>\n",
       "      <th>0</th>\n",
       "      <td>0.277770</td>\n",
       "      <td>0.000000</td>\n",
       "      <td>0.6</td>\n",
       "      <td>1.0</td>\n",
       "      <td>0</td>\n",
       "      <td>1</td>\n",
       "      <td>1</td>\n",
       "      <td>0</td>\n",
       "      <td>1</td>\n",
       "      <td>0</td>\n",
       "      <td>...</td>\n",
       "      <td>0</td>\n",
       "      <td>1</td>\n",
       "      <td>0</td>\n",
       "      <td>1</td>\n",
       "      <td>0</td>\n",
       "      <td>0</td>\n",
       "      <td>0</td>\n",
       "      <td>1</td>\n",
       "      <td>0</td>\n",
       "      <td>1</td>\n",
       "    </tr>\n",
       "    <tr>\n",
       "      <th>1</th>\n",
       "      <td>0.256155</td>\n",
       "      <td>0.167929</td>\n",
       "      <td>0.6</td>\n",
       "      <td>1.0</td>\n",
       "      <td>0</td>\n",
       "      <td>1</td>\n",
       "      <td>0</td>\n",
       "      <td>1</td>\n",
       "      <td>0</td>\n",
       "      <td>1</td>\n",
       "      <td>...</td>\n",
       "      <td>0</td>\n",
       "      <td>1</td>\n",
       "      <td>0</td>\n",
       "      <td>1</td>\n",
       "      <td>0</td>\n",
       "      <td>1</td>\n",
       "      <td>0</td>\n",
       "      <td>0</td>\n",
       "      <td>1</td>\n",
       "      <td>0</td>\n",
       "    </tr>\n",
       "  </tbody>\n",
       "</table>\n",
       "<p>2 rows × 21 columns</p>\n",
       "</div>"
      ],
      "text/plain": [
       "   ApplicantIncome  CoapplicantIncome  Loan_Amount_Term  Credit_History  \\\n",
       "0         0.277770           0.000000               0.6             1.0   \n",
       "1         0.256155           0.167929               0.6             1.0   \n",
       "\n",
       "   Gender_Female  Gender_Male  Married_No  Married_Yes  Dependents_0  \\\n",
       "0              0            1           1            0             1   \n",
       "1              0            1           0            1             0   \n",
       "\n",
       "   Dependents_1  ...  Dependents_3+  Education_Graduate  \\\n",
       "0             0  ...              0                   1   \n",
       "1             1  ...              0                   1   \n",
       "\n",
       "   Education_Not Graduate  Self_Employed_No  Self_Employed_Yes  \\\n",
       "0                       0                 1                  0   \n",
       "1                       0                 1                  0   \n",
       "\n",
       "   Property_Area_Rural  Property_Area_Semiurban  Property_Area_Urban  \\\n",
       "0                    0                        0                    1   \n",
       "1                    1                        0                    0   \n",
       "\n",
       "   Loan_Status_N  Loan_Status_Y  \n",
       "0              0              1  \n",
       "1              1              0  \n",
       "\n",
       "[2 rows x 21 columns]"
      ]
     },
     "execution_count": 53,
     "metadata": {},
     "output_type": "execute_result"
    }
   ],
   "source": [
    "Xnew_trd.head(2)"
   ]
  },
  {
   "cell_type": "code",
   "execution_count": 54,
   "id": "74375694",
   "metadata": {},
   "outputs": [],
   "source": [
    "from sklearn.model_selection import train_test_split\n",
    "xtrain,xtest,ytrain,ytest=train_test_split(Xnew_trd,Y_trd,test_size=0.2,random_state=21)"
   ]
  },
  {
   "cell_type": "markdown",
   "id": "64495716",
   "metadata": {},
   "source": [
    "# Model"
   ]
  },
  {
   "cell_type": "code",
   "execution_count": 55,
   "id": "a7fd6938",
   "metadata": {},
   "outputs": [],
   "source": [
    "def modeller(mo):\n",
    "    model = mo.fit(xtrain,ytrain)\n",
    "    tr_pred = model.predict(xtrain)\n",
    "    ts_pred = model.predict(xtest)\n",
    "    from sklearn.metrics import mean_squared_error\n",
    "    tr_err = round(mean_squared_error(ytrain,tr_pred),2)\n",
    "    ts_err = round(mean_squared_error(ytest,ts_pred),2)\n",
    "    return tr_err,ts_err"
   ]
  },
  {
   "cell_type": "markdown",
   "id": "f18e2180",
   "metadata": {},
   "source": [
    "# OLS model(Backward elimination )"
   ]
  },
  {
   "cell_type": "raw",
   "id": "67a338af",
   "metadata": {},
   "source": [
    "the ols model can be used to find the best fit line for data by minimizing the sum of squared errors or residuals between the actual and predicted values"
   ]
  },
  {
   "cell_type": "code",
   "execution_count": 56,
   "id": "a627a982",
   "metadata": {},
   "outputs": [
    {
     "data": {
      "text/html": [
       "<table class=\"simpletable\">\n",
       "<caption>OLS Regression Results</caption>\n",
       "<tr>\n",
       "  <th>Dep. Variable:</th>       <td>LoanAmount</td>    <th>  R-squared:         </th> <td>   0.417</td>\n",
       "</tr>\n",
       "<tr>\n",
       "  <th>Model:</th>                   <td>OLS</td>       <th>  Adj. R-squared:    </th> <td>   0.398</td>\n",
       "</tr>\n",
       "<tr>\n",
       "  <th>Method:</th>             <td>Least Squares</td>  <th>  F-statistic:       </th> <td>   22.76</td>\n",
       "</tr>\n",
       "<tr>\n",
       "  <th>Date:</th>             <td>Tue, 13 Jun 2023</td> <th>  Prob (F-statistic):</th> <td>6.42e-44</td>\n",
       "</tr>\n",
       "<tr>\n",
       "  <th>Time:</th>                 <td>15:50:12</td>     <th>  Log-Likelihood:    </th> <td> -2392.4</td>\n",
       "</tr>\n",
       "<tr>\n",
       "  <th>No. Observations:</th>      <td>   461</td>      <th>  AIC:               </th> <td>   4815.</td>\n",
       "</tr>\n",
       "<tr>\n",
       "  <th>Df Residuals:</th>          <td>   446</td>      <th>  BIC:               </th> <td>   4877.</td>\n",
       "</tr>\n",
       "<tr>\n",
       "  <th>Df Model:</th>              <td>    14</td>      <th>                     </th>     <td> </td>   \n",
       "</tr>\n",
       "<tr>\n",
       "  <th>Covariance Type:</th>      <td>nonrobust</td>    <th>                     </th>     <td> </td>   \n",
       "</tr>\n",
       "</table>\n",
       "<table class=\"simpletable\">\n",
       "<tr>\n",
       "             <td></td>                <th>coef</th>     <th>std err</th>      <th>t</th>      <th>P>|t|</th>  <th>[0.025</th>    <th>0.975]</th>  \n",
       "</tr>\n",
       "<tr>\n",
       "  <th>const</th>                   <td>   13.9879</td> <td>    2.534</td> <td>    5.520</td> <td> 0.000</td> <td>    9.008</td> <td>   18.968</td>\n",
       "</tr>\n",
       "<tr>\n",
       "  <th>ApplicantIncome</th>         <td>  200.1983</td> <td>   14.762</td> <td>   13.561</td> <td> 0.000</td> <td>  171.186</td> <td>  229.211</td>\n",
       "</tr>\n",
       "<tr>\n",
       "  <th>CoapplicantIncome</th>       <td>  132.7207</td> <td>   12.243</td> <td>   10.841</td> <td> 0.000</td> <td>  108.660</td> <td>  156.781</td>\n",
       "</tr>\n",
       "<tr>\n",
       "  <th>Loan_Amount_Term</th>        <td>   19.8254</td> <td>   12.588</td> <td>    1.575</td> <td> 0.116</td> <td>   -4.913</td> <td>   44.564</td>\n",
       "</tr>\n",
       "<tr>\n",
       "  <th>Credit_History</th>          <td>    7.3222</td> <td>    6.990</td> <td>    1.048</td> <td> 0.295</td> <td>   -6.415</td> <td>   21.060</td>\n",
       "</tr>\n",
       "<tr>\n",
       "  <th>Gender_Female</th>           <td>    3.1186</td> <td>    3.360</td> <td>    0.928</td> <td> 0.354</td> <td>   -3.485</td> <td>    9.722</td>\n",
       "</tr>\n",
       "<tr>\n",
       "  <th>Gender_Male</th>             <td>   10.8692</td> <td>    2.987</td> <td>    3.639</td> <td> 0.000</td> <td>    5.000</td> <td>   16.739</td>\n",
       "</tr>\n",
       "<tr>\n",
       "  <th>Married_No</th>              <td>    5.7381</td> <td>    2.912</td> <td>    1.970</td> <td> 0.049</td> <td>    0.014</td> <td>   11.462</td>\n",
       "</tr>\n",
       "<tr>\n",
       "  <th>Married_Yes</th>             <td>    8.2498</td> <td>    2.740</td> <td>    3.010</td> <td> 0.003</td> <td>    2.864</td> <td>   13.636</td>\n",
       "</tr>\n",
       "<tr>\n",
       "  <th>Dependents_0</th>            <td>   -3.9844</td> <td>    3.483</td> <td>   -1.144</td> <td> 0.253</td> <td>  -10.829</td> <td>    2.860</td>\n",
       "</tr>\n",
       "<tr>\n",
       "  <th>Dependents_1</th>            <td>    3.8337</td> <td>    4.570</td> <td>    0.839</td> <td> 0.402</td> <td>   -5.148</td> <td>   12.815</td>\n",
       "</tr>\n",
       "<tr>\n",
       "  <th>Dependents_2</th>            <td>    1.2483</td> <td>    4.572</td> <td>    0.273</td> <td> 0.785</td> <td>   -7.736</td> <td>   10.233</td>\n",
       "</tr>\n",
       "<tr>\n",
       "  <th>Dependents_3+</th>           <td>   12.8903</td> <td>    5.764</td> <td>    2.236</td> <td> 0.026</td> <td>    1.562</td> <td>   24.218</td>\n",
       "</tr>\n",
       "<tr>\n",
       "  <th>Education_Graduate</th>      <td>   10.9738</td> <td>    2.902</td> <td>    3.781</td> <td> 0.000</td> <td>    5.270</td> <td>   16.677</td>\n",
       "</tr>\n",
       "<tr>\n",
       "  <th>Education_Not Graduate</th>  <td>    3.0141</td> <td>    2.811</td> <td>    1.072</td> <td> 0.284</td> <td>   -2.510</td> <td>    8.538</td>\n",
       "</tr>\n",
       "<tr>\n",
       "  <th>Self_Employed_No</th>        <td>    4.8488</td> <td>    3.099</td> <td>    1.565</td> <td> 0.118</td> <td>   -1.241</td> <td>   10.938</td>\n",
       "</tr>\n",
       "<tr>\n",
       "  <th>Self_Employed_Yes</th>       <td>    9.1390</td> <td>    3.736</td> <td>    2.446</td> <td> 0.015</td> <td>    1.796</td> <td>   16.482</td>\n",
       "</tr>\n",
       "<tr>\n",
       "  <th>Property_Area_Rural</th>     <td>    3.5874</td> <td>    3.278</td> <td>    1.094</td> <td> 0.274</td> <td>   -2.856</td> <td>   10.030</td>\n",
       "</tr>\n",
       "<tr>\n",
       "  <th>Property_Area_Semiurban</th> <td>    8.5047</td> <td>    2.987</td> <td>    2.847</td> <td> 0.005</td> <td>    2.634</td> <td>   14.375</td>\n",
       "</tr>\n",
       "<tr>\n",
       "  <th>Property_Area_Urban</th>     <td>    1.8958</td> <td>    3.073</td> <td>    0.617</td> <td> 0.538</td> <td>   -4.145</td> <td>    7.936</td>\n",
       "</tr>\n",
       "<tr>\n",
       "  <th>Loan_Status_N</th>           <td>   12.6528</td> <td>    2.777</td> <td>    4.556</td> <td> 0.000</td> <td>    7.195</td> <td>   18.110</td>\n",
       "</tr>\n",
       "<tr>\n",
       "  <th>Loan_Status_Y</th>           <td>    1.3351</td> <td>    3.211</td> <td>    0.416</td> <td> 0.678</td> <td>   -4.975</td> <td>    7.645</td>\n",
       "</tr>\n",
       "</table>\n",
       "<table class=\"simpletable\">\n",
       "<tr>\n",
       "  <th>Omnibus:</th>       <td>30.410</td> <th>  Durbin-Watson:     </th> <td>   1.948</td>\n",
       "</tr>\n",
       "<tr>\n",
       "  <th>Prob(Omnibus):</th> <td> 0.000</td> <th>  Jarque-Bera (JB):  </th> <td> 106.592</td>\n",
       "</tr>\n",
       "<tr>\n",
       "  <th>Skew:</th>          <td> 0.111</td> <th>  Prob(JB):          </th> <td>7.14e-24</td>\n",
       "</tr>\n",
       "<tr>\n",
       "  <th>Kurtosis:</th>      <td> 5.345</td> <th>  Cond. No.          </th> <td>4.35e+16</td>\n",
       "</tr>\n",
       "</table><br/><br/>Notes:<br/>[1] Standard Errors assume that the covariance matrix of the errors is correctly specified.<br/>[2] The smallest eigenvalue is 1.5e-30. This might indicate that there are<br/>strong multicollinearity problems or that the design matrix is singular."
      ],
      "text/plain": [
       "<class 'statsmodels.iolib.summary.Summary'>\n",
       "\"\"\"\n",
       "                            OLS Regression Results                            \n",
       "==============================================================================\n",
       "Dep. Variable:             LoanAmount   R-squared:                       0.417\n",
       "Model:                            OLS   Adj. R-squared:                  0.398\n",
       "Method:                 Least Squares   F-statistic:                     22.76\n",
       "Date:                Tue, 13 Jun 2023   Prob (F-statistic):           6.42e-44\n",
       "Time:                        15:50:12   Log-Likelihood:                -2392.4\n",
       "No. Observations:                 461   AIC:                             4815.\n",
       "Df Residuals:                     446   BIC:                             4877.\n",
       "Df Model:                          14                                         \n",
       "Covariance Type:            nonrobust                                         \n",
       "===========================================================================================\n",
       "                              coef    std err          t      P>|t|      [0.025      0.975]\n",
       "-------------------------------------------------------------------------------------------\n",
       "const                      13.9879      2.534      5.520      0.000       9.008      18.968\n",
       "ApplicantIncome           200.1983     14.762     13.561      0.000     171.186     229.211\n",
       "CoapplicantIncome         132.7207     12.243     10.841      0.000     108.660     156.781\n",
       "Loan_Amount_Term           19.8254     12.588      1.575      0.116      -4.913      44.564\n",
       "Credit_History              7.3222      6.990      1.048      0.295      -6.415      21.060\n",
       "Gender_Female               3.1186      3.360      0.928      0.354      -3.485       9.722\n",
       "Gender_Male                10.8692      2.987      3.639      0.000       5.000      16.739\n",
       "Married_No                  5.7381      2.912      1.970      0.049       0.014      11.462\n",
       "Married_Yes                 8.2498      2.740      3.010      0.003       2.864      13.636\n",
       "Dependents_0               -3.9844      3.483     -1.144      0.253     -10.829       2.860\n",
       "Dependents_1                3.8337      4.570      0.839      0.402      -5.148      12.815\n",
       "Dependents_2                1.2483      4.572      0.273      0.785      -7.736      10.233\n",
       "Dependents_3+              12.8903      5.764      2.236      0.026       1.562      24.218\n",
       "Education_Graduate         10.9738      2.902      3.781      0.000       5.270      16.677\n",
       "Education_Not Graduate      3.0141      2.811      1.072      0.284      -2.510       8.538\n",
       "Self_Employed_No            4.8488      3.099      1.565      0.118      -1.241      10.938\n",
       "Self_Employed_Yes           9.1390      3.736      2.446      0.015       1.796      16.482\n",
       "Property_Area_Rural         3.5874      3.278      1.094      0.274      -2.856      10.030\n",
       "Property_Area_Semiurban     8.5047      2.987      2.847      0.005       2.634      14.375\n",
       "Property_Area_Urban         1.8958      3.073      0.617      0.538      -4.145       7.936\n",
       "Loan_Status_N              12.6528      2.777      4.556      0.000       7.195      18.110\n",
       "Loan_Status_Y               1.3351      3.211      0.416      0.678      -4.975       7.645\n",
       "==============================================================================\n",
       "Omnibus:                       30.410   Durbin-Watson:                   1.948\n",
       "Prob(Omnibus):                  0.000   Jarque-Bera (JB):              106.592\n",
       "Skew:                           0.111   Prob(JB):                     7.14e-24\n",
       "Kurtosis:                       5.345   Cond. No.                     4.35e+16\n",
       "==============================================================================\n",
       "\n",
       "Notes:\n",
       "[1] Standard Errors assume that the covariance matrix of the errors is correctly specified.\n",
       "[2] The smallest eigenvalue is 1.5e-30. This might indicate that there are\n",
       "strong multicollinearity problems or that the design matrix is singular.\n",
       "\"\"\""
      ]
     },
     "execution_count": 56,
     "metadata": {},
     "output_type": "execute_result"
    }
   ],
   "source": [
    "from statsmodels.api import add_constant,OLS\n",
    "xconst=add_constant(xtrain)\n",
    "ols=OLS(ytrain,xconst).fit()\n",
    "ols.summary()"
   ]
  },
  {
   "cell_type": "code",
   "execution_count": 57,
   "id": "611923f4",
   "metadata": {},
   "outputs": [
    {
     "data": {
      "text/html": [
       "<div>\n",
       "<style scoped>\n",
       "    .dataframe tbody tr th:only-of-type {\n",
       "        vertical-align: middle;\n",
       "    }\n",
       "\n",
       "    .dataframe tbody tr th {\n",
       "        vertical-align: top;\n",
       "    }\n",
       "\n",
       "    .dataframe thead th {\n",
       "        text-align: right;\n",
       "    }\n",
       "</style>\n",
       "<table border=\"1\" class=\"dataframe\">\n",
       "  <thead>\n",
       "    <tr style=\"text-align: right;\">\n",
       "      <th></th>\n",
       "      <th>const</th>\n",
       "      <th>ApplicantIncome</th>\n",
       "      <th>CoapplicantIncome</th>\n",
       "      <th>Loan_Amount_Term</th>\n",
       "      <th>Credit_History</th>\n",
       "      <th>Gender_Female</th>\n",
       "      <th>Gender_Male</th>\n",
       "      <th>Married_No</th>\n",
       "      <th>Married_Yes</th>\n",
       "      <th>Dependents_0</th>\n",
       "      <th>...</th>\n",
       "      <th>Dependents_3+</th>\n",
       "      <th>Education_Graduate</th>\n",
       "      <th>Education_Not Graduate</th>\n",
       "      <th>Self_Employed_No</th>\n",
       "      <th>Self_Employed_Yes</th>\n",
       "      <th>Property_Area_Rural</th>\n",
       "      <th>Property_Area_Semiurban</th>\n",
       "      <th>Property_Area_Urban</th>\n",
       "      <th>Loan_Status_N</th>\n",
       "      <th>Loan_Status_Y</th>\n",
       "    </tr>\n",
       "  </thead>\n",
       "  <tbody>\n",
       "    <tr>\n",
       "      <th>209</th>\n",
       "      <td>1.0</td>\n",
       "      <td>0.188088</td>\n",
       "      <td>0.191203</td>\n",
       "      <td>0.6</td>\n",
       "      <td>1.000000</td>\n",
       "      <td>0</td>\n",
       "      <td>1</td>\n",
       "      <td>0</td>\n",
       "      <td>1</td>\n",
       "      <td>0</td>\n",
       "      <td>...</td>\n",
       "      <td>0</td>\n",
       "      <td>1</td>\n",
       "      <td>0</td>\n",
       "      <td>1</td>\n",
       "      <td>0</td>\n",
       "      <td>0</td>\n",
       "      <td>1</td>\n",
       "      <td>0</td>\n",
       "      <td>0</td>\n",
       "      <td>1</td>\n",
       "    </tr>\n",
       "    <tr>\n",
       "      <th>82</th>\n",
       "      <td>1.0</td>\n",
       "      <td>0.108008</td>\n",
       "      <td>0.281849</td>\n",
       "      <td>0.6</td>\n",
       "      <td>1.000000</td>\n",
       "      <td>0</td>\n",
       "      <td>1</td>\n",
       "      <td>1</td>\n",
       "      <td>0</td>\n",
       "      <td>1</td>\n",
       "      <td>...</td>\n",
       "      <td>0</td>\n",
       "      <td>1</td>\n",
       "      <td>0</td>\n",
       "      <td>1</td>\n",
       "      <td>0</td>\n",
       "      <td>0</td>\n",
       "      <td>1</td>\n",
       "      <td>0</td>\n",
       "      <td>0</td>\n",
       "      <td>1</td>\n",
       "    </tr>\n",
       "    <tr>\n",
       "      <th>88</th>\n",
       "      <td>1.0</td>\n",
       "      <td>0.297314</td>\n",
       "      <td>0.629621</td>\n",
       "      <td>0.0</td>\n",
       "      <td>1.000000</td>\n",
       "      <td>0</td>\n",
       "      <td>1</td>\n",
       "      <td>0</td>\n",
       "      <td>1</td>\n",
       "      <td>0</td>\n",
       "      <td>...</td>\n",
       "      <td>0</td>\n",
       "      <td>1</td>\n",
       "      <td>0</td>\n",
       "      <td>1</td>\n",
       "      <td>0</td>\n",
       "      <td>0</td>\n",
       "      <td>1</td>\n",
       "      <td>0</td>\n",
       "      <td>0</td>\n",
       "      <td>1</td>\n",
       "    </tr>\n",
       "    <tr>\n",
       "      <th>171</th>\n",
       "      <td>1.0</td>\n",
       "      <td>0.086075</td>\n",
       "      <td>0.563808</td>\n",
       "      <td>0.6</td>\n",
       "      <td>0.842199</td>\n",
       "      <td>0</td>\n",
       "      <td>1</td>\n",
       "      <td>1</td>\n",
       "      <td>0</td>\n",
       "      <td>1</td>\n",
       "      <td>...</td>\n",
       "      <td>0</td>\n",
       "      <td>1</td>\n",
       "      <td>0</td>\n",
       "      <td>1</td>\n",
       "      <td>0</td>\n",
       "      <td>1</td>\n",
       "      <td>0</td>\n",
       "      <td>0</td>\n",
       "      <td>1</td>\n",
       "      <td>0</td>\n",
       "    </tr>\n",
       "    <tr>\n",
       "      <th>533</th>\n",
       "      <td>1.0</td>\n",
       "      <td>0.210411</td>\n",
       "      <td>0.000000</td>\n",
       "      <td>0.6</td>\n",
       "      <td>0.842199</td>\n",
       "      <td>0</td>\n",
       "      <td>1</td>\n",
       "      <td>0</td>\n",
       "      <td>1</td>\n",
       "      <td>1</td>\n",
       "      <td>...</td>\n",
       "      <td>0</td>\n",
       "      <td>0</td>\n",
       "      <td>1</td>\n",
       "      <td>1</td>\n",
       "      <td>0</td>\n",
       "      <td>1</td>\n",
       "      <td>0</td>\n",
       "      <td>0</td>\n",
       "      <td>0</td>\n",
       "      <td>1</td>\n",
       "    </tr>\n",
       "    <tr>\n",
       "      <th>...</th>\n",
       "      <td>...</td>\n",
       "      <td>...</td>\n",
       "      <td>...</td>\n",
       "      <td>...</td>\n",
       "      <td>...</td>\n",
       "      <td>...</td>\n",
       "      <td>...</td>\n",
       "      <td>...</td>\n",
       "      <td>...</td>\n",
       "      <td>...</td>\n",
       "      <td>...</td>\n",
       "      <td>...</td>\n",
       "      <td>...</td>\n",
       "      <td>...</td>\n",
       "      <td>...</td>\n",
       "      <td>...</td>\n",
       "      <td>...</td>\n",
       "      <td>...</td>\n",
       "      <td>...</td>\n",
       "      <td>...</td>\n",
       "      <td>...</td>\n",
       "    </tr>\n",
       "    <tr>\n",
       "      <th>419</th>\n",
       "      <td>1.0</td>\n",
       "      <td>0.222108</td>\n",
       "      <td>0.221938</td>\n",
       "      <td>0.6</td>\n",
       "      <td>1.000000</td>\n",
       "      <td>0</td>\n",
       "      <td>1</td>\n",
       "      <td>1</td>\n",
       "      <td>0</td>\n",
       "      <td>0</td>\n",
       "      <td>...</td>\n",
       "      <td>1</td>\n",
       "      <td>0</td>\n",
       "      <td>1</td>\n",
       "      <td>1</td>\n",
       "      <td>0</td>\n",
       "      <td>0</td>\n",
       "      <td>1</td>\n",
       "      <td>0</td>\n",
       "      <td>0</td>\n",
       "      <td>1</td>\n",
       "    </tr>\n",
       "    <tr>\n",
       "      <th>120</th>\n",
       "      <td>1.0</td>\n",
       "      <td>0.202271</td>\n",
       "      <td>0.224276</td>\n",
       "      <td>0.6</td>\n",
       "      <td>1.000000</td>\n",
       "      <td>0</td>\n",
       "      <td>1</td>\n",
       "      <td>0</td>\n",
       "      <td>1</td>\n",
       "      <td>1</td>\n",
       "      <td>...</td>\n",
       "      <td>0</td>\n",
       "      <td>0</td>\n",
       "      <td>1</td>\n",
       "      <td>1</td>\n",
       "      <td>0</td>\n",
       "      <td>1</td>\n",
       "      <td>0</td>\n",
       "      <td>0</td>\n",
       "      <td>0</td>\n",
       "      <td>1</td>\n",
       "    </tr>\n",
       "    <tr>\n",
       "      <th>368</th>\n",
       "      <td>1.0</td>\n",
       "      <td>0.139397</td>\n",
       "      <td>0.349220</td>\n",
       "      <td>0.6</td>\n",
       "      <td>0.000000</td>\n",
       "      <td>0</td>\n",
       "      <td>1</td>\n",
       "      <td>0</td>\n",
       "      <td>1</td>\n",
       "      <td>1</td>\n",
       "      <td>...</td>\n",
       "      <td>0</td>\n",
       "      <td>0</td>\n",
       "      <td>1</td>\n",
       "      <td>1</td>\n",
       "      <td>0</td>\n",
       "      <td>0</td>\n",
       "      <td>0</td>\n",
       "      <td>1</td>\n",
       "      <td>1</td>\n",
       "      <td>0</td>\n",
       "    </tr>\n",
       "    <tr>\n",
       "      <th>48</th>\n",
       "      <td>1.0</td>\n",
       "      <td>0.086660</td>\n",
       "      <td>0.183073</td>\n",
       "      <td>0.6</td>\n",
       "      <td>1.000000</td>\n",
       "      <td>1</td>\n",
       "      <td>0</td>\n",
       "      <td>0</td>\n",
       "      <td>1</td>\n",
       "      <td>1</td>\n",
       "      <td>...</td>\n",
       "      <td>0</td>\n",
       "      <td>0</td>\n",
       "      <td>1</td>\n",
       "      <td>1</td>\n",
       "      <td>0</td>\n",
       "      <td>0</td>\n",
       "      <td>1</td>\n",
       "      <td>0</td>\n",
       "      <td>0</td>\n",
       "      <td>1</td>\n",
       "    </tr>\n",
       "    <tr>\n",
       "      <th>207</th>\n",
       "      <td>1.0</td>\n",
       "      <td>0.201443</td>\n",
       "      <td>0.265367</td>\n",
       "      <td>0.6</td>\n",
       "      <td>0.842199</td>\n",
       "      <td>1</td>\n",
       "      <td>0</td>\n",
       "      <td>0</td>\n",
       "      <td>1</td>\n",
       "      <td>0</td>\n",
       "      <td>...</td>\n",
       "      <td>0</td>\n",
       "      <td>1</td>\n",
       "      <td>0</td>\n",
       "      <td>1</td>\n",
       "      <td>0</td>\n",
       "      <td>0</td>\n",
       "      <td>1</td>\n",
       "      <td>0</td>\n",
       "      <td>0</td>\n",
       "      <td>1</td>\n",
       "    </tr>\n",
       "  </tbody>\n",
       "</table>\n",
       "<p>461 rows × 22 columns</p>\n",
       "</div>"
      ],
      "text/plain": [
       "     const  ApplicantIncome  CoapplicantIncome  Loan_Amount_Term  \\\n",
       "209    1.0         0.188088           0.191203               0.6   \n",
       "82     1.0         0.108008           0.281849               0.6   \n",
       "88     1.0         0.297314           0.629621               0.0   \n",
       "171    1.0         0.086075           0.563808               0.6   \n",
       "533    1.0         0.210411           0.000000               0.6   \n",
       "..     ...              ...                ...               ...   \n",
       "419    1.0         0.222108           0.221938               0.6   \n",
       "120    1.0         0.202271           0.224276               0.6   \n",
       "368    1.0         0.139397           0.349220               0.6   \n",
       "48     1.0         0.086660           0.183073               0.6   \n",
       "207    1.0         0.201443           0.265367               0.6   \n",
       "\n",
       "     Credit_History  Gender_Female  Gender_Male  Married_No  Married_Yes  \\\n",
       "209        1.000000              0            1           0            1   \n",
       "82         1.000000              0            1           1            0   \n",
       "88         1.000000              0            1           0            1   \n",
       "171        0.842199              0            1           1            0   \n",
       "533        0.842199              0            1           0            1   \n",
       "..              ...            ...          ...         ...          ...   \n",
       "419        1.000000              0            1           1            0   \n",
       "120        1.000000              0            1           0            1   \n",
       "368        0.000000              0            1           0            1   \n",
       "48         1.000000              1            0           0            1   \n",
       "207        0.842199              1            0           0            1   \n",
       "\n",
       "     Dependents_0  ...  Dependents_3+  Education_Graduate  \\\n",
       "209             0  ...              0                   1   \n",
       "82              1  ...              0                   1   \n",
       "88              0  ...              0                   1   \n",
       "171             1  ...              0                   1   \n",
       "533             1  ...              0                   0   \n",
       "..            ...  ...            ...                 ...   \n",
       "419             0  ...              1                   0   \n",
       "120             1  ...              0                   0   \n",
       "368             1  ...              0                   0   \n",
       "48              1  ...              0                   0   \n",
       "207             0  ...              0                   1   \n",
       "\n",
       "     Education_Not Graduate  Self_Employed_No  Self_Employed_Yes  \\\n",
       "209                       0                 1                  0   \n",
       "82                        0                 1                  0   \n",
       "88                        0                 1                  0   \n",
       "171                       0                 1                  0   \n",
       "533                       1                 1                  0   \n",
       "..                      ...               ...                ...   \n",
       "419                       1                 1                  0   \n",
       "120                       1                 1                  0   \n",
       "368                       1                 1                  0   \n",
       "48                        1                 1                  0   \n",
       "207                       0                 1                  0   \n",
       "\n",
       "     Property_Area_Rural  Property_Area_Semiurban  Property_Area_Urban  \\\n",
       "209                    0                        1                    0   \n",
       "82                     0                        1                    0   \n",
       "88                     0                        1                    0   \n",
       "171                    1                        0                    0   \n",
       "533                    1                        0                    0   \n",
       "..                   ...                      ...                  ...   \n",
       "419                    0                        1                    0   \n",
       "120                    1                        0                    0   \n",
       "368                    0                        0                    1   \n",
       "48                     0                        1                    0   \n",
       "207                    0                        1                    0   \n",
       "\n",
       "     Loan_Status_N  Loan_Status_Y  \n",
       "209              0              1  \n",
       "82               0              1  \n",
       "88               0              1  \n",
       "171              1              0  \n",
       "533              0              1  \n",
       "..             ...            ...  \n",
       "419              0              1  \n",
       "120              0              1  \n",
       "368              1              0  \n",
       "48               0              1  \n",
       "207              0              1  \n",
       "\n",
       "[461 rows x 22 columns]"
      ]
     },
     "execution_count": 57,
     "metadata": {},
     "output_type": "execute_result"
    }
   ],
   "source": [
    "xconst"
   ]
  },
  {
   "cell_type": "code",
   "execution_count": 58,
   "id": "3a03a220",
   "metadata": {},
   "outputs": [
    {
     "data": {
      "text/plain": [
       "0.39835688550313697"
      ]
     },
     "execution_count": 58,
     "metadata": {},
     "output_type": "execute_result"
    }
   ],
   "source": [
    "ols.rsquared_adj"
   ]
  },
  {
   "cell_type": "code",
   "execution_count": 59,
   "id": "8b8ac92c",
   "metadata": {},
   "outputs": [
    {
     "data": {
      "text/plain": [
       "'Dependents_2'"
      ]
     },
     "execution_count": 59,
     "metadata": {},
     "output_type": "execute_result"
    }
   ],
   "source": [
    "ols.pvalues.sort_values().index[-1]"
   ]
  },
  {
   "cell_type": "code",
   "execution_count": 60,
   "id": "2f7d255e",
   "metadata": {},
   "outputs": [],
   "source": [
    "col=ols.pvalues.sort_values().index[-1]"
   ]
  },
  {
   "cell_type": "code",
   "execution_count": 61,
   "id": "e3bfb893",
   "metadata": {},
   "outputs": [],
   "source": [
    "Xnew_trd = Xnew_trd.drop(labels=[col],axis=1)\n",
    "\n",
    "from sklearn.model_selection import train_test_split\n",
    "xtrain,xtest,ytrain,ytest=train_test_split(Xnew_trd,Y_trd,test_size=0.2,random_state=21)"
   ]
  },
  {
   "cell_type": "code",
   "execution_count": 62,
   "id": "c4170a2c",
   "metadata": {},
   "outputs": [],
   "source": [
    "from statsmodels.api import add_constant,OLS\n",
    "xconst = add_constant(xtrain)\n",
    "ols = OLS(ytrain,xconst).fit()"
   ]
  },
  {
   "cell_type": "code",
   "execution_count": 63,
   "id": "54e4b815",
   "metadata": {},
   "outputs": [],
   "source": [
    "col=ols.pvalues.sort_values().index[-1]"
   ]
  },
  {
   "cell_type": "code",
   "execution_count": 64,
   "id": "4cc4c845",
   "metadata": {},
   "outputs": [
    {
     "name": "stdout",
     "output_type": "stream",
     "text": [
      "0.39835688550313697 Dependents_1\n"
     ]
    }
   ],
   "source": [
    "print(ols.rsquared_adj,col)"
   ]
  },
  {
   "cell_type": "markdown",
   "id": "18e50d5c",
   "metadata": {},
   "source": [
    "# linear regression model"
   ]
  },
  {
   "cell_type": "code",
   "execution_count": 65,
   "id": "bf4876e0",
   "metadata": {},
   "outputs": [
    {
     "data": {
      "text/plain": [
       "(1899.35, 1966.12)"
      ]
     },
     "execution_count": 65,
     "metadata": {},
     "output_type": "execute_result"
    }
   ],
   "source": [
    "from sklearn.linear_model import LinearRegression\n",
    "lm=LinearRegression()\n",
    "modeller(lm)"
   ]
  },
  {
   "cell_type": "markdown",
   "id": "618d7eb8",
   "metadata": {},
   "source": [
    "# Decision tree"
   ]
  },
  {
   "cell_type": "code",
   "execution_count": 66,
   "id": "0e897ccf",
   "metadata": {},
   "outputs": [
    {
     "data": {
      "text/plain": [
       "(1891.73, 2555.54)"
      ]
     },
     "execution_count": 66,
     "metadata": {},
     "output_type": "execute_result"
    }
   ],
   "source": [
    "from sklearn.tree import DecisionTreeRegressor\n",
    "dtr = DecisionTreeRegressor(random_state=21,max_depth=2)\n",
    "modeller(dtr)"
   ]
  },
  {
   "cell_type": "code",
   "execution_count": 67,
   "id": "62baa93e",
   "metadata": {},
   "outputs": [],
   "source": [
    "for i in range(2,20):\n",
    "    dtr = DecisionTreeRegressor(random_state=21,max_depth=i)\n",
    "    tre,tse = modeller(dtr)"
   ]
  },
  {
   "cell_type": "code",
   "execution_count": 68,
   "id": "14d505cd",
   "metadata": {},
   "outputs": [
    {
     "data": {
      "text/plain": [
       "0.86"
      ]
     },
     "execution_count": 68,
     "metadata": {},
     "output_type": "execute_result"
    }
   ],
   "source": [
    "tre"
   ]
  },
  {
   "cell_type": "code",
   "execution_count": 69,
   "id": "b565d3d0",
   "metadata": {},
   "outputs": [
    {
     "data": {
      "text/plain": [
       "4433.14"
      ]
     },
     "execution_count": 69,
     "metadata": {},
     "output_type": "execute_result"
    }
   ],
   "source": [
    "tse"
   ]
  },
  {
   "cell_type": "markdown",
   "id": "926bed22",
   "metadata": {},
   "source": [
    "# by plotting graphs"
   ]
  },
  {
   "cell_type": "code",
   "execution_count": 70,
   "id": "ae2d7e58",
   "metadata": {},
   "outputs": [],
   "source": [
    "tr = []\n",
    "ts = []\n",
    "for i in range(2,20):\n",
    "    dtr = DecisionTreeRegressor(random_state=21,max_depth=i)\n",
    "    tre,tse = modeller(dtr)\n",
    "    tr.append(tre)\n",
    "    ts.append(tse)"
   ]
  },
  {
   "cell_type": "code",
   "execution_count": 71,
   "id": "da7a0927",
   "metadata": {},
   "outputs": [
    {
     "data": {
      "text/plain": [
       "[<matplotlib.lines.Line2D at 0x18313f18250>]"
      ]
     },
     "execution_count": 71,
     "metadata": {},
     "output_type": "execute_result"
    },
    {
     "data": {
      "image/png": "[encoded data removed]",
      "text/plain": [
       "<Figure size 640x480 with 1 Axes>"
      ]
     },
     "metadata": {},
     "output_type": "display_data"
    }
   ],
   "source": [
    "import matplotlib.pyplot as plt\n",
    "plt.plot(tr)\n",
    "plt.plot(ts)"
   ]
  },
  {
   "cell_type": "code",
   "execution_count": 72,
   "id": "9c6cd0ac",
   "metadata": {},
   "outputs": [
    {
     "data": {
      "text/plain": [
       "(1891.73, 2555.54)"
      ]
     },
     "execution_count": 72,
     "metadata": {},
     "output_type": "execute_result"
    }
   ],
   "source": [
    "dtr = DecisionTreeRegressor(random_state=21,max_depth=2)\n",
    "modeller(dtr)"
   ]
  },
  {
   "cell_type": "code",
   "execution_count": 73,
   "id": "dcd902a4",
   "metadata": {},
   "outputs": [
    {
     "data": {
      "text/plain": [
       "(1722.79, 2220.47)"
      ]
     },
     "execution_count": 73,
     "metadata": {},
     "output_type": "execute_result"
    }
   ],
   "source": [
    "from sklearn.ensemble import RandomForestRegressor\n",
    "rfr = RandomForestRegressor(random_state=21,max_depth=2)\n",
    "modeller(rfr)"
   ]
  },
  {
   "cell_type": "markdown",
   "id": "b8e5014e",
   "metadata": {},
   "source": [
    "# Final Pred"
   ]
  },
  {
   "cell_type": "code",
   "execution_count": 74,
   "id": "dc99030f",
   "metadata": {},
   "outputs": [],
   "source": [
    "tsd['Loan_Status']=pred_LS"
   ]
  },
  {
   "cell_type": "code",
   "execution_count": 75,
   "id": "f6dcb63e",
   "metadata": {},
   "outputs": [],
   "source": [
    "tsdnew = tsd.drop(labels=[\"Loan_ID\",\"LoanAmount\"],axis=1)"
   ]
  },
  {
   "cell_type": "code",
   "execution_count": 76,
   "id": "77ef5fbe",
   "metadata": {},
   "outputs": [
    {
     "data": {
      "text/plain": [
       "(['Gender',\n",
       "  'Married',\n",
       "  'Dependents',\n",
       "  'Education',\n",
       "  'Self_Employed',\n",
       "  'Property_Area',\n",
       "  'Loan_Status'],\n",
       " ['ApplicantIncome',\n",
       "  'CoapplicantIncome',\n",
       "  'Loan_Amount_Term',\n",
       "  'Credit_History'])"
      ]
     },
     "execution_count": 76,
     "metadata": {},
     "output_type": "execute_result"
    }
   ],
   "source": [
    "from PM12 import catcon\n",
    "catcon(X_trd)"
   ]
  },
  {
   "cell_type": "code",
   "execution_count": 77,
   "id": "a193d7a5",
   "metadata": {},
   "outputs": [],
   "source": [
    "from sklearn.preprocessing import MinMaxScaler\n",
    "mm = MinMaxScaler()\n",
    "x1_trd = pd.DataFrame(mm.fit_transform(X_trd[con]),columns=con)\n",
    "x2_trd = pd.get_dummies(X_trd[cat])\n",
    "Xnew_trd = x1_trd.join(x2_trd)"
   ]
  },
  {
   "cell_type": "code",
   "execution_count": 78,
   "id": "65a67fec",
   "metadata": {},
   "outputs": [],
   "source": [
    "from sklearn.linear_model import LinearRegression\n",
    "lm = LinearRegression()\n",
    "model = lm.fit(Xnew_trd,Y_trd)"
   ]
  },
  {
   "cell_type": "code",
   "execution_count": 79,
   "id": "b7e9c5d1",
   "metadata": {},
   "outputs": [],
   "source": [
    "cat = []\n",
    "con = []\n",
    "for i in tsdnew.columns:\n",
    "    if(tsdnew[i].dtypes == \"object\"):\n",
    "        cat.append(i)\n",
    "    else:\n",
    "        con.append(i)\n",
    "\n",
    "from sklearn.preprocessing import MinMaxScaler\n",
    "mm = MinMaxScaler()\n",
    "x1_trd = pd.DataFrame(mm.fit_transform(tsdnew[con]),columns=con)\n",
    "x2_trd = pd.get_dummies(tsdnew[cat])\n",
    "Xnew_tsd = x1_trd.join(x2_trd)"
   ]
  },
  {
   "cell_type": "code",
   "execution_count": 80,
   "id": "7c77c813",
   "metadata": {},
   "outputs": [
    {
     "data": {
      "text/plain": [
       "21"
      ]
     },
     "execution_count": 80,
     "metadata": {},
     "output_type": "execute_result"
    }
   ],
   "source": [
    "len(Xnew_tsd.columns)"
   ]
  },
  {
   "cell_type": "code",
   "execution_count": 81,
   "id": "0e1a888c",
   "metadata": {},
   "outputs": [
    {
     "data": {
      "text/plain": [
       "21"
      ]
     },
     "execution_count": 81,
     "metadata": {},
     "output_type": "execute_result"
    }
   ],
   "source": [
    "len(Xnew_trd.columns)"
   ]
  },
  {
   "cell_type": "code",
   "execution_count": 82,
   "id": "5f80abf6",
   "metadata": {},
   "outputs": [],
   "source": [
    "pred_loan_amount=model.predict(Xnew_tsd)"
   ]
  },
  {
   "cell_type": "code",
   "execution_count": 83,
   "id": "fe825f06",
   "metadata": {},
   "outputs": [],
   "source": [
    "F[\"Predicted_loan_amount\"]=pred_loan_amount"
   ]
  },
  {
   "cell_type": "code",
   "execution_count": 84,
   "id": "5b40bdb6",
   "metadata": {},
   "outputs": [
    {
     "data": {
      "text/html": [
       "<div>\n",
       "<style scoped>\n",
       "    .dataframe tbody tr th:only-of-type {\n",
       "        vertical-align: middle;\n",
       "    }\n",
       "\n",
       "    .dataframe tbody tr th {\n",
       "        vertical-align: top;\n",
       "    }\n",
       "\n",
       "    .dataframe thead th {\n",
       "        text-align: right;\n",
       "    }\n",
       "</style>\n",
       "<table border=\"1\" class=\"dataframe\">\n",
       "  <thead>\n",
       "    <tr style=\"text-align: right;\">\n",
       "      <th></th>\n",
       "      <th>Loan_ID</th>\n",
       "      <th>Loan_Status</th>\n",
       "      <th>Amount</th>\n",
       "      <th>Predicted_loan_amount</th>\n",
       "    </tr>\n",
       "  </thead>\n",
       "  <tbody>\n",
       "    <tr>\n",
       "      <th>0</th>\n",
       "      <td>LP001015</td>\n",
       "      <td>Y</td>\n",
       "      <td>110.0</td>\n",
       "      <td>88.125</td>\n",
       "    </tr>\n",
       "    <tr>\n",
       "      <th>1</th>\n",
       "      <td>LP001022</td>\n",
       "      <td>Y</td>\n",
       "      <td>126.0</td>\n",
       "      <td>97.875</td>\n",
       "    </tr>\n",
       "    <tr>\n",
       "      <th>2</th>\n",
       "      <td>LP001031</td>\n",
       "      <td>Y</td>\n",
       "      <td>208.0</td>\n",
       "      <td>106.375</td>\n",
       "    </tr>\n",
       "    <tr>\n",
       "      <th>3</th>\n",
       "      <td>LP001035</td>\n",
       "      <td>Y</td>\n",
       "      <td>100.0</td>\n",
       "      <td>102.125</td>\n",
       "    </tr>\n",
       "    <tr>\n",
       "      <th>4</th>\n",
       "      <td>LP001051</td>\n",
       "      <td>Y</td>\n",
       "      <td>78.0</td>\n",
       "      <td>69.375</td>\n",
       "    </tr>\n",
       "    <tr>\n",
       "      <th>...</th>\n",
       "      <td>...</td>\n",
       "      <td>...</td>\n",
       "      <td>...</td>\n",
       "      <td>...</td>\n",
       "    </tr>\n",
       "    <tr>\n",
       "      <th>362</th>\n",
       "      <td>LP002971</td>\n",
       "      <td>Y</td>\n",
       "      <td>113.0</td>\n",
       "      <td>104.875</td>\n",
       "    </tr>\n",
       "    <tr>\n",
       "      <th>363</th>\n",
       "      <td>LP002975</td>\n",
       "      <td>Y</td>\n",
       "      <td>115.0</td>\n",
       "      <td>87.375</td>\n",
       "    </tr>\n",
       "    <tr>\n",
       "      <th>364</th>\n",
       "      <td>LP002980</td>\n",
       "      <td>Y</td>\n",
       "      <td>126.0</td>\n",
       "      <td>90.875</td>\n",
       "    </tr>\n",
       "    <tr>\n",
       "      <th>365</th>\n",
       "      <td>LP002986</td>\n",
       "      <td>Y</td>\n",
       "      <td>158.0</td>\n",
       "      <td>103.375</td>\n",
       "    </tr>\n",
       "    <tr>\n",
       "      <th>366</th>\n",
       "      <td>LP002989</td>\n",
       "      <td>Y</td>\n",
       "      <td>98.0</td>\n",
       "      <td>85.875</td>\n",
       "    </tr>\n",
       "  </tbody>\n",
       "</table>\n",
       "<p>367 rows × 4 columns</p>\n",
       "</div>"
      ],
      "text/plain": [
       "      Loan_ID Loan_Status  Amount  Predicted_loan_amount\n",
       "0    LP001015           Y   110.0                 88.125\n",
       "1    LP001022           Y   126.0                 97.875\n",
       "2    LP001031           Y   208.0                106.375\n",
       "3    LP001035           Y   100.0                102.125\n",
       "4    LP001051           Y    78.0                 69.375\n",
       "..        ...         ...     ...                    ...\n",
       "362  LP002971           Y   113.0                104.875\n",
       "363  LP002975           Y   115.0                 87.375\n",
       "364  LP002980           Y   126.0                 90.875\n",
       "365  LP002986           Y   158.0                103.375\n",
       "366  LP002989           Y    98.0                 85.875\n",
       "\n",
       "[367 rows x 4 columns]"
      ]
     },
     "execution_count": 84,
     "metadata": {},
     "output_type": "execute_result"
    }
   ],
   "source": [
    "F"
   ]
  },
  {
   "cell_type": "code",
   "execution_count": null,
   "id": "656b000d",
   "metadata": {},
   "outputs": [],
   "source": []
  },
  {
   "cell_type": "code",
   "execution_count": null,
   "id": "aab2ada6",
   "metadata": {},
   "outputs": [],
   "source": []
  },
  {
   "cell_type": "code",
   "execution_count": 85,
   "id": "3d537e4a",
   "metadata": {},
   "outputs": [
    {
     "data": {
      "text/html": [
       "<div>\n",
       "<style scoped>\n",
       "    .dataframe tbody tr th:only-of-type {\n",
       "        vertical-align: middle;\n",
       "    }\n",
       "\n",
       "    .dataframe tbody tr th {\n",
       "        vertical-align: top;\n",
       "    }\n",
       "\n",
       "    .dataframe thead th {\n",
       "        text-align: right;\n",
       "    }\n",
       "</style>\n",
       "<table border=\"1\" class=\"dataframe\">\n",
       "  <thead>\n",
       "    <tr style=\"text-align: right;\">\n",
       "      <th></th>\n",
       "      <th>Loan_ID</th>\n",
       "      <th>Loan_Status</th>\n",
       "      <th>Amount</th>\n",
       "      <th>Predicted_loan_amount</th>\n",
       "    </tr>\n",
       "  </thead>\n",
       "  <tbody>\n",
       "    <tr>\n",
       "      <th>7</th>\n",
       "      <td>LP001056</td>\n",
       "      <td>N</td>\n",
       "      <td>147.000000</td>\n",
       "      <td>95.75</td>\n",
       "    </tr>\n",
       "    <tr>\n",
       "      <th>13</th>\n",
       "      <td>LP001094</td>\n",
       "      <td>N</td>\n",
       "      <td>166.000000</td>\n",
       "      <td>125.75</td>\n",
       "    </tr>\n",
       "    <tr>\n",
       "      <th>35</th>\n",
       "      <td>LP001203</td>\n",
       "      <td>N</td>\n",
       "      <td>176.000000</td>\n",
       "      <td>85.25</td>\n",
       "    </tr>\n",
       "    <tr>\n",
       "      <th>55</th>\n",
       "      <td>LP001313</td>\n",
       "      <td>N</td>\n",
       "      <td>130.000000</td>\n",
       "      <td>79.75</td>\n",
       "    </tr>\n",
       "    <tr>\n",
       "      <th>58</th>\n",
       "      <td>LP001323</td>\n",
       "      <td>N</td>\n",
       "      <td>176.000000</td>\n",
       "      <td>113.75</td>\n",
       "    </tr>\n",
       "    <tr>\n",
       "      <th>63</th>\n",
       "      <td>LP001347</td>\n",
       "      <td>N</td>\n",
       "      <td>108.000000</td>\n",
       "      <td>85.25</td>\n",
       "    </tr>\n",
       "    <tr>\n",
       "      <th>66</th>\n",
       "      <td>LP001352</td>\n",
       "      <td>N</td>\n",
       "      <td>135.000000</td>\n",
       "      <td>87.00</td>\n",
       "    </tr>\n",
       "    <tr>\n",
       "      <th>67</th>\n",
       "      <td>LP001358</td>\n",
       "      <td>N</td>\n",
       "      <td>130.000000</td>\n",
       "      <td>90.75</td>\n",
       "    </tr>\n",
       "    <tr>\n",
       "      <th>69</th>\n",
       "      <td>LP001361</td>\n",
       "      <td>N</td>\n",
       "      <td>188.000000</td>\n",
       "      <td>115.25</td>\n",
       "    </tr>\n",
       "    <tr>\n",
       "      <th>80</th>\n",
       "      <td>LP001420</td>\n",
       "      <td>N</td>\n",
       "      <td>163.000000</td>\n",
       "      <td>112.25</td>\n",
       "    </tr>\n",
       "    <tr>\n",
       "      <th>82</th>\n",
       "      <td>LP001445</td>\n",
       "      <td>N</td>\n",
       "      <td>149.000000</td>\n",
       "      <td>105.00</td>\n",
       "    </tr>\n",
       "    <tr>\n",
       "      <th>84</th>\n",
       "      <td>LP001450</td>\n",
       "      <td>N</td>\n",
       "      <td>131.000000</td>\n",
       "      <td>81.00</td>\n",
       "    </tr>\n",
       "    <tr>\n",
       "      <th>94</th>\n",
       "      <td>LP001496</td>\n",
       "      <td>N</td>\n",
       "      <td>123.000000</td>\n",
       "      <td>115.50</td>\n",
       "    </tr>\n",
       "    <tr>\n",
       "      <th>101</th>\n",
       "      <td>LP001542</td>\n",
       "      <td>N</td>\n",
       "      <td>146.412162</td>\n",
       "      <td>90.50</td>\n",
       "    </tr>\n",
       "    <tr>\n",
       "      <th>106</th>\n",
       "      <td>LP001563</td>\n",
       "      <td>N</td>\n",
       "      <td>119.000000</td>\n",
       "      <td>85.75</td>\n",
       "    </tr>\n",
       "    <tr>\n",
       "      <th>118</th>\n",
       "      <td>LP001613</td>\n",
       "      <td>N</td>\n",
       "      <td>104.000000</td>\n",
       "      <td>85.75</td>\n",
       "    </tr>\n",
       "    <tr>\n",
       "      <th>119</th>\n",
       "      <td>LP001622</td>\n",
       "      <td>N</td>\n",
       "      <td>213.000000</td>\n",
       "      <td>112.75</td>\n",
       "    </tr>\n",
       "    <tr>\n",
       "      <th>123</th>\n",
       "      <td>LP001652</td>\n",
       "      <td>N</td>\n",
       "      <td>187.000000</td>\n",
       "      <td>117.50</td>\n",
       "    </tr>\n",
       "    <tr>\n",
       "      <th>124</th>\n",
       "      <td>LP001655</td>\n",
       "      <td>N</td>\n",
       "      <td>300.000000</td>\n",
       "      <td>101.50</td>\n",
       "    </tr>\n",
       "    <tr>\n",
       "      <th>140</th>\n",
       "      <td>LP001785</td>\n",
       "      <td>N</td>\n",
       "      <td>150.000000</td>\n",
       "      <td>90.00</td>\n",
       "    </tr>\n",
       "    <tr>\n",
       "      <th>142</th>\n",
       "      <td>LP001789</td>\n",
       "      <td>N</td>\n",
       "      <td>139.000000</td>\n",
       "      <td>110.25</td>\n",
       "    </tr>\n",
       "    <tr>\n",
       "      <th>147</th>\n",
       "      <td>LP001817</td>\n",
       "      <td>N</td>\n",
       "      <td>199.000000</td>\n",
       "      <td>94.25</td>\n",
       "    </tr>\n",
       "    <tr>\n",
       "      <th>153</th>\n",
       "      <td>LP001853</td>\n",
       "      <td>N</td>\n",
       "      <td>117.000000</td>\n",
       "      <td>98.00</td>\n",
       "    </tr>\n",
       "    <tr>\n",
       "      <th>165</th>\n",
       "      <td>LP001923</td>\n",
       "      <td>N</td>\n",
       "      <td>170.000000</td>\n",
       "      <td>75.50</td>\n",
       "    </tr>\n",
       "    <tr>\n",
       "      <th>166</th>\n",
       "      <td>LP001933</td>\n",
       "      <td>N</td>\n",
       "      <td>120.000000</td>\n",
       "      <td>89.50</td>\n",
       "    </tr>\n",
       "    <tr>\n",
       "      <th>173</th>\n",
       "      <td>LP001979</td>\n",
       "      <td>N</td>\n",
       "      <td>159.000000</td>\n",
       "      <td>82.75</td>\n",
       "    </tr>\n",
       "    <tr>\n",
       "      <th>174</th>\n",
       "      <td>LP001995</td>\n",
       "      <td>N</td>\n",
       "      <td>110.000000</td>\n",
       "      <td>90.50</td>\n",
       "    </tr>\n",
       "    <tr>\n",
       "      <th>192</th>\n",
       "      <td>LP002069</td>\n",
       "      <td>N</td>\n",
       "      <td>180.000000</td>\n",
       "      <td>110.75</td>\n",
       "    </tr>\n",
       "    <tr>\n",
       "      <th>193</th>\n",
       "      <td>LP002070</td>\n",
       "      <td>N</td>\n",
       "      <td>128.000000</td>\n",
       "      <td>111.25</td>\n",
       "    </tr>\n",
       "    <tr>\n",
       "      <th>196</th>\n",
       "      <td>LP002090</td>\n",
       "      <td>N</td>\n",
       "      <td>114.000000</td>\n",
       "      <td>103.75</td>\n",
       "    </tr>\n",
       "    <tr>\n",
       "      <th>198</th>\n",
       "      <td>LP002099</td>\n",
       "      <td>N</td>\n",
       "      <td>104.000000</td>\n",
       "      <td>98.25</td>\n",
       "    </tr>\n",
       "    <tr>\n",
       "      <th>211</th>\n",
       "      <td>LP002168</td>\n",
       "      <td>N</td>\n",
       "      <td>200.000000</td>\n",
       "      <td>104.25</td>\n",
       "    </tr>\n",
       "    <tr>\n",
       "      <th>224</th>\n",
       "      <td>LP002256</td>\n",
       "      <td>N</td>\n",
       "      <td>187.000000</td>\n",
       "      <td>96.75</td>\n",
       "    </tr>\n",
       "    <tr>\n",
       "      <th>229</th>\n",
       "      <td>LP002286</td>\n",
       "      <td>N</td>\n",
       "      <td>125.000000</td>\n",
       "      <td>103.00</td>\n",
       "    </tr>\n",
       "    <tr>\n",
       "      <th>235</th>\n",
       "      <td>LP002316</td>\n",
       "      <td>N</td>\n",
       "      <td>176.000000</td>\n",
       "      <td>92.75</td>\n",
       "    </tr>\n",
       "    <tr>\n",
       "      <th>236</th>\n",
       "      <td>LP002321</td>\n",
       "      <td>N</td>\n",
       "      <td>117.000000</td>\n",
       "      <td>105.00</td>\n",
       "    </tr>\n",
       "    <tr>\n",
       "      <th>241</th>\n",
       "      <td>LP002339</td>\n",
       "      <td>N</td>\n",
       "      <td>105.000000</td>\n",
       "      <td>100.00</td>\n",
       "    </tr>\n",
       "    <tr>\n",
       "      <th>243</th>\n",
       "      <td>LP002346</td>\n",
       "      <td>N</td>\n",
       "      <td>125.000000</td>\n",
       "      <td>97.50</td>\n",
       "    </tr>\n",
       "    <tr>\n",
       "      <th>245</th>\n",
       "      <td>LP002355</td>\n",
       "      <td>N</td>\n",
       "      <td>150.000000</td>\n",
       "      <td>94.00</td>\n",
       "    </tr>\n",
       "    <tr>\n",
       "      <th>250</th>\n",
       "      <td>LP002383</td>\n",
       "      <td>N</td>\n",
       "      <td>142.000000</td>\n",
       "      <td>115.50</td>\n",
       "    </tr>\n",
       "    <tr>\n",
       "      <th>255</th>\n",
       "      <td>LP002399</td>\n",
       "      <td>N</td>\n",
       "      <td>123.000000</td>\n",
       "      <td>84.75</td>\n",
       "    </tr>\n",
       "    <tr>\n",
       "      <th>266</th>\n",
       "      <td>LP002442</td>\n",
       "      <td>N</td>\n",
       "      <td>112.000000</td>\n",
       "      <td>99.75</td>\n",
       "    </tr>\n",
       "    <tr>\n",
       "      <th>273</th>\n",
       "      <td>LP002495</td>\n",
       "      <td>N</td>\n",
       "      <td>130.000000</td>\n",
       "      <td>110.00</td>\n",
       "    </tr>\n",
       "    <tr>\n",
       "      <th>274</th>\n",
       "      <td>LP002496</td>\n",
       "      <td>N</td>\n",
       "      <td>94.000000</td>\n",
       "      <td>81.00</td>\n",
       "    </tr>\n",
       "    <tr>\n",
       "      <th>278</th>\n",
       "      <td>LP002551</td>\n",
       "      <td>N</td>\n",
       "      <td>176.000000</td>\n",
       "      <td>108.00</td>\n",
       "    </tr>\n",
       "    <tr>\n",
       "      <th>301</th>\n",
       "      <td>LP002651</td>\n",
       "      <td>N</td>\n",
       "      <td>125.000000</td>\n",
       "      <td>103.50</td>\n",
       "    </tr>\n",
       "    <tr>\n",
       "      <th>311</th>\n",
       "      <td>LP002747</td>\n",
       "      <td>N</td>\n",
       "      <td>153.000000</td>\n",
       "      <td>124.75</td>\n",
       "    </tr>\n",
       "    <tr>\n",
       "      <th>325</th>\n",
       "      <td>LP002802</td>\n",
       "      <td>N</td>\n",
       "      <td>95.000000</td>\n",
       "      <td>72.75</td>\n",
       "    </tr>\n",
       "    <tr>\n",
       "      <th>339</th>\n",
       "      <td>LP002858</td>\n",
       "      <td>N</td>\n",
       "      <td>162.000000</td>\n",
       "      <td>95.75</td>\n",
       "    </tr>\n",
       "    <tr>\n",
       "      <th>346</th>\n",
       "      <td>LP002879</td>\n",
       "      <td>N</td>\n",
       "      <td>133.000000</td>\n",
       "      <td>101.25</td>\n",
       "    </tr>\n",
       "    <tr>\n",
       "      <th>354</th>\n",
       "      <td>LP002921</td>\n",
       "      <td>N</td>\n",
       "      <td>158.000000</td>\n",
       "      <td>96.25</td>\n",
       "    </tr>\n",
       "  </tbody>\n",
       "</table>\n",
       "</div>"
      ],
      "text/plain": [
       "      Loan_ID Loan_Status      Amount  Predicted_loan_amount\n",
       "7    LP001056           N  147.000000                  95.75\n",
       "13   LP001094           N  166.000000                 125.75\n",
       "35   LP001203           N  176.000000                  85.25\n",
       "55   LP001313           N  130.000000                  79.75\n",
       "58   LP001323           N  176.000000                 113.75\n",
       "63   LP001347           N  108.000000                  85.25\n",
       "66   LP001352           N  135.000000                  87.00\n",
       "67   LP001358           N  130.000000                  90.75\n",
       "69   LP001361           N  188.000000                 115.25\n",
       "80   LP001420           N  163.000000                 112.25\n",
       "82   LP001445           N  149.000000                 105.00\n",
       "84   LP001450           N  131.000000                  81.00\n",
       "94   LP001496           N  123.000000                 115.50\n",
       "101  LP001542           N  146.412162                  90.50\n",
       "106  LP001563           N  119.000000                  85.75\n",
       "118  LP001613           N  104.000000                  85.75\n",
       "119  LP001622           N  213.000000                 112.75\n",
       "123  LP001652           N  187.000000                 117.50\n",
       "124  LP001655           N  300.000000                 101.50\n",
       "140  LP001785           N  150.000000                  90.00\n",
       "142  LP001789           N  139.000000                 110.25\n",
       "147  LP001817           N  199.000000                  94.25\n",
       "153  LP001853           N  117.000000                  98.00\n",
       "165  LP001923           N  170.000000                  75.50\n",
       "166  LP001933           N  120.000000                  89.50\n",
       "173  LP001979           N  159.000000                  82.75\n",
       "174  LP001995           N  110.000000                  90.50\n",
       "192  LP002069           N  180.000000                 110.75\n",
       "193  LP002070           N  128.000000                 111.25\n",
       "196  LP002090           N  114.000000                 103.75\n",
       "198  LP002099           N  104.000000                  98.25\n",
       "211  LP002168           N  200.000000                 104.25\n",
       "224  LP002256           N  187.000000                  96.75\n",
       "229  LP002286           N  125.000000                 103.00\n",
       "235  LP002316           N  176.000000                  92.75\n",
       "236  LP002321           N  117.000000                 105.00\n",
       "241  LP002339           N  105.000000                 100.00\n",
       "243  LP002346           N  125.000000                  97.50\n",
       "245  LP002355           N  150.000000                  94.00\n",
       "250  LP002383           N  142.000000                 115.50\n",
       "255  LP002399           N  123.000000                  84.75\n",
       "266  LP002442           N  112.000000                  99.75\n",
       "273  LP002495           N  130.000000                 110.00\n",
       "274  LP002496           N   94.000000                  81.00\n",
       "278  LP002551           N  176.000000                 108.00\n",
       "301  LP002651           N  125.000000                 103.50\n",
       "311  LP002747           N  153.000000                 124.75\n",
       "325  LP002802           N   95.000000                  72.75\n",
       "339  LP002858           N  162.000000                  95.75\n",
       "346  LP002879           N  133.000000                 101.25\n",
       "354  LP002921           N  158.000000                  96.25"
      ]
     },
     "execution_count": 85,
     "metadata": {},
     "output_type": "execute_result"
    }
   ],
   "source": [
    "F[(F.Loan_Status==\"N\")&(F.Amount>F.Predicted_loan_amount)]"
   ]
  },
  {
   "cell_type": "code",
   "execution_count": 86,
   "id": "4ef8be61",
   "metadata": {},
   "outputs": [
    {
     "data": {
      "text/plain": [
       "51"
      ]
     },
     "execution_count": 86,
     "metadata": {},
     "output_type": "execute_result"
    }
   ],
   "source": [
    "len(F[(F.Loan_Status==\"N\")&(F.Amount>F.Predicted_loan_amount)])"
   ]
  },
  {
   "cell_type": "code",
   "execution_count": 87,
   "id": "976f3c62",
   "metadata": {},
   "outputs": [
    {
     "data": {
      "text/plain": [
       "10"
      ]
     },
     "execution_count": 87,
     "metadata": {},
     "output_type": "execute_result"
    }
   ],
   "source": [
    "len(F[(F.Loan_Status==\"N\")&(F.Amount<=F.Predicted_loan_amount)])"
   ]
  },
  {
   "cell_type": "markdown",
   "id": "fdfde7d1",
   "metadata": {},
   "source": [
    "# 3. if duration is less than equal to 20 years, is customer eligible for required amount for some longer duration? What is that duration?(Regression)"
   ]
  },
  {
   "cell_type": "raw",
   "id": "36b6eb43",
   "metadata": {},
   "source": [
    "# Agar loan reject ho chuka hai aur agar loan term 20 saal se kam hai, to thode jyada term ke liye loan milega kya, aur kitna milega\n"
   ]
  },
  {
   "cell_type": "code",
   "execution_count": 88,
   "id": "25cd9d65",
   "metadata": {},
   "outputs": [
    {
     "data": {
      "text/html": [
       "<div>\n",
       "<style scoped>\n",
       "    .dataframe tbody tr th:only-of-type {\n",
       "        vertical-align: middle;\n",
       "    }\n",
       "\n",
       "    .dataframe tbody tr th {\n",
       "        vertical-align: top;\n",
       "    }\n",
       "\n",
       "    .dataframe thead th {\n",
       "        text-align: right;\n",
       "    }\n",
       "</style>\n",
       "<table border=\"1\" class=\"dataframe\">\n",
       "  <thead>\n",
       "    <tr style=\"text-align: right;\">\n",
       "      <th></th>\n",
       "      <th>Loan_ID</th>\n",
       "      <th>Gender</th>\n",
       "      <th>Married</th>\n",
       "      <th>Dependents</th>\n",
       "      <th>Education</th>\n",
       "      <th>Self_Employed</th>\n",
       "      <th>ApplicantIncome</th>\n",
       "      <th>CoapplicantIncome</th>\n",
       "      <th>LoanAmount</th>\n",
       "      <th>Loan_Amount_Term</th>\n",
       "      <th>Credit_History</th>\n",
       "      <th>Property_Area</th>\n",
       "      <th>Loan_Status</th>\n",
       "    </tr>\n",
       "  </thead>\n",
       "  <tbody>\n",
       "    <tr>\n",
       "      <th>0</th>\n",
       "      <td>LP001015</td>\n",
       "      <td>Male</td>\n",
       "      <td>Yes</td>\n",
       "      <td>0</td>\n",
       "      <td>Graduate</td>\n",
       "      <td>No</td>\n",
       "      <td>5720</td>\n",
       "      <td>0</td>\n",
       "      <td>110.0</td>\n",
       "      <td>360.0</td>\n",
       "      <td>1.000000</td>\n",
       "      <td>Urban</td>\n",
       "      <td>Y</td>\n",
       "    </tr>\n",
       "    <tr>\n",
       "      <th>1</th>\n",
       "      <td>LP001022</td>\n",
       "      <td>Male</td>\n",
       "      <td>Yes</td>\n",
       "      <td>1</td>\n",
       "      <td>Graduate</td>\n",
       "      <td>No</td>\n",
       "      <td>3076</td>\n",
       "      <td>1500</td>\n",
       "      <td>126.0</td>\n",
       "      <td>360.0</td>\n",
       "      <td>1.000000</td>\n",
       "      <td>Urban</td>\n",
       "      <td>Y</td>\n",
       "    </tr>\n",
       "    <tr>\n",
       "      <th>2</th>\n",
       "      <td>LP001031</td>\n",
       "      <td>Male</td>\n",
       "      <td>Yes</td>\n",
       "      <td>2</td>\n",
       "      <td>Graduate</td>\n",
       "      <td>No</td>\n",
       "      <td>5000</td>\n",
       "      <td>1800</td>\n",
       "      <td>208.0</td>\n",
       "      <td>360.0</td>\n",
       "      <td>1.000000</td>\n",
       "      <td>Urban</td>\n",
       "      <td>Y</td>\n",
       "    </tr>\n",
       "    <tr>\n",
       "      <th>3</th>\n",
       "      <td>LP001035</td>\n",
       "      <td>Male</td>\n",
       "      <td>Yes</td>\n",
       "      <td>2</td>\n",
       "      <td>Graduate</td>\n",
       "      <td>No</td>\n",
       "      <td>2340</td>\n",
       "      <td>2546</td>\n",
       "      <td>100.0</td>\n",
       "      <td>360.0</td>\n",
       "      <td>0.842199</td>\n",
       "      <td>Urban</td>\n",
       "      <td>Y</td>\n",
       "    </tr>\n",
       "    <tr>\n",
       "      <th>4</th>\n",
       "      <td>LP001051</td>\n",
       "      <td>Male</td>\n",
       "      <td>No</td>\n",
       "      <td>0</td>\n",
       "      <td>Not Graduate</td>\n",
       "      <td>No</td>\n",
       "      <td>3276</td>\n",
       "      <td>0</td>\n",
       "      <td>78.0</td>\n",
       "      <td>360.0</td>\n",
       "      <td>1.000000</td>\n",
       "      <td>Urban</td>\n",
       "      <td>Y</td>\n",
       "    </tr>\n",
       "    <tr>\n",
       "      <th>...</th>\n",
       "      <td>...</td>\n",
       "      <td>...</td>\n",
       "      <td>...</td>\n",
       "      <td>...</td>\n",
       "      <td>...</td>\n",
       "      <td>...</td>\n",
       "      <td>...</td>\n",
       "      <td>...</td>\n",
       "      <td>...</td>\n",
       "      <td>...</td>\n",
       "      <td>...</td>\n",
       "      <td>...</td>\n",
       "      <td>...</td>\n",
       "    </tr>\n",
       "    <tr>\n",
       "      <th>362</th>\n",
       "      <td>LP002971</td>\n",
       "      <td>Male</td>\n",
       "      <td>Yes</td>\n",
       "      <td>3+</td>\n",
       "      <td>Not Graduate</td>\n",
       "      <td>Yes</td>\n",
       "      <td>4009</td>\n",
       "      <td>1777</td>\n",
       "      <td>113.0</td>\n",
       "      <td>360.0</td>\n",
       "      <td>1.000000</td>\n",
       "      <td>Urban</td>\n",
       "      <td>Y</td>\n",
       "    </tr>\n",
       "    <tr>\n",
       "      <th>363</th>\n",
       "      <td>LP002975</td>\n",
       "      <td>Male</td>\n",
       "      <td>Yes</td>\n",
       "      <td>0</td>\n",
       "      <td>Graduate</td>\n",
       "      <td>No</td>\n",
       "      <td>4158</td>\n",
       "      <td>709</td>\n",
       "      <td>115.0</td>\n",
       "      <td>360.0</td>\n",
       "      <td>1.000000</td>\n",
       "      <td>Urban</td>\n",
       "      <td>Y</td>\n",
       "    </tr>\n",
       "    <tr>\n",
       "      <th>364</th>\n",
       "      <td>LP002980</td>\n",
       "      <td>Male</td>\n",
       "      <td>No</td>\n",
       "      <td>0</td>\n",
       "      <td>Graduate</td>\n",
       "      <td>No</td>\n",
       "      <td>3250</td>\n",
       "      <td>1993</td>\n",
       "      <td>126.0</td>\n",
       "      <td>360.0</td>\n",
       "      <td>0.842199</td>\n",
       "      <td>Semiurban</td>\n",
       "      <td>Y</td>\n",
       "    </tr>\n",
       "    <tr>\n",
       "      <th>365</th>\n",
       "      <td>LP002986</td>\n",
       "      <td>Male</td>\n",
       "      <td>Yes</td>\n",
       "      <td>0</td>\n",
       "      <td>Graduate</td>\n",
       "      <td>No</td>\n",
       "      <td>5000</td>\n",
       "      <td>2393</td>\n",
       "      <td>158.0</td>\n",
       "      <td>360.0</td>\n",
       "      <td>1.000000</td>\n",
       "      <td>Rural</td>\n",
       "      <td>Y</td>\n",
       "    </tr>\n",
       "    <tr>\n",
       "      <th>366</th>\n",
       "      <td>LP002989</td>\n",
       "      <td>Male</td>\n",
       "      <td>No</td>\n",
       "      <td>0</td>\n",
       "      <td>Graduate</td>\n",
       "      <td>Yes</td>\n",
       "      <td>9200</td>\n",
       "      <td>0</td>\n",
       "      <td>98.0</td>\n",
       "      <td>180.0</td>\n",
       "      <td>1.000000</td>\n",
       "      <td>Rural</td>\n",
       "      <td>Y</td>\n",
       "    </tr>\n",
       "  </tbody>\n",
       "</table>\n",
       "<p>367 rows × 13 columns</p>\n",
       "</div>"
      ],
      "text/plain": [
       "      Loan_ID Gender Married Dependents     Education Self_Employed  \\\n",
       "0    LP001015   Male     Yes          0      Graduate            No   \n",
       "1    LP001022   Male     Yes          1      Graduate            No   \n",
       "2    LP001031   Male     Yes          2      Graduate            No   \n",
       "3    LP001035   Male     Yes          2      Graduate            No   \n",
       "4    LP001051   Male      No          0  Not Graduate            No   \n",
       "..        ...    ...     ...        ...           ...           ...   \n",
       "362  LP002971   Male     Yes         3+  Not Graduate           Yes   \n",
       "363  LP002975   Male     Yes          0      Graduate            No   \n",
       "364  LP002980   Male      No          0      Graduate            No   \n",
       "365  LP002986   Male     Yes          0      Graduate            No   \n",
       "366  LP002989   Male      No          0      Graduate           Yes   \n",
       "\n",
       "     ApplicantIncome  CoapplicantIncome  LoanAmount  Loan_Amount_Term  \\\n",
       "0               5720                  0       110.0             360.0   \n",
       "1               3076               1500       126.0             360.0   \n",
       "2               5000               1800       208.0             360.0   \n",
       "3               2340               2546       100.0             360.0   \n",
       "4               3276                  0        78.0             360.0   \n",
       "..               ...                ...         ...               ...   \n",
       "362             4009               1777       113.0             360.0   \n",
       "363             4158                709       115.0             360.0   \n",
       "364             3250               1993       126.0             360.0   \n",
       "365             5000               2393       158.0             360.0   \n",
       "366             9200                  0        98.0             180.0   \n",
       "\n",
       "     Credit_History Property_Area Loan_Status  \n",
       "0          1.000000         Urban           Y  \n",
       "1          1.000000         Urban           Y  \n",
       "2          1.000000         Urban           Y  \n",
       "3          0.842199         Urban           Y  \n",
       "4          1.000000         Urban           Y  \n",
       "..              ...           ...         ...  \n",
       "362        1.000000         Urban           Y  \n",
       "363        1.000000         Urban           Y  \n",
       "364        0.842199     Semiurban           Y  \n",
       "365        1.000000         Rural           Y  \n",
       "366        1.000000         Rural           Y  \n",
       "\n",
       "[367 rows x 13 columns]"
      ]
     },
     "execution_count": 88,
     "metadata": {},
     "output_type": "execute_result"
    }
   ],
   "source": [
    "tsd"
   ]
  },
  {
   "cell_type": "markdown",
   "id": "d24876c0",
   "metadata": {},
   "source": [
    "# preprocessing of test data"
   ]
  },
  {
   "cell_type": "markdown",
   "id": "cf9987f4",
   "metadata": {},
   "source": [
    "we have tp fetch only loan_status =N and loan amount term=<240 (240 means 20 years)"
   ]
  },
  {
   "cell_type": "code",
   "execution_count": 89,
   "id": "a0fde40d",
   "metadata": {},
   "outputs": [],
   "source": [
    "Q = tsd[(tsd.Loan_Status == \"N\")&(tsd.Loan_Amount_Term<=240)]\n",
    "Q.index = range(0,Q.shape[0])\n",
    "Q = Q.drop(labels=[\"Loan_Status\",\"Loan_ID\",\"Loan_Amount_Term\"],axis=1)\n",
    "cat = []\n",
    "con = []\n",
    "for i in Q.columns:\n",
    "    if(Q[i].dtypes == \"object\"):\n",
    "        cat.append(i)\n",
    "    else:\n",
    "        con.append(i)\n",
    "\n",
    "from sklearn.preprocessing import MinMaxScaler\n",
    "mm = MinMaxScaler()\n",
    "x1_trd = pd.DataFrame(mm.fit_transform(Q[con]),columns=con)\n",
    "x2_trd = pd.get_dummies(Q[cat])\n",
    "Xnew_tsd = x1_trd.join(x2_trd)"
   ]
  },
  {
   "cell_type": "markdown",
   "id": "b56d4d2b",
   "metadata": {},
   "source": [
    "# preprocessing of training data"
   ]
  },
  {
   "cell_type": "code",
   "execution_count": 90,
   "id": "4f1d64c3",
   "metadata": {},
   "outputs": [],
   "source": [
    "X_trd = trd.drop(labels=[\"Loan_Status\",\"Loan_ID\",\"Loan_Amount_Term\"],axis=1)\n",
    "Y_trd = trd[[\"Loan_Amount_Term\"]]"
   ]
  },
  {
   "cell_type": "code",
   "execution_count": 91,
   "id": "d07aa0fd",
   "metadata": {},
   "outputs": [
    {
     "data": {
      "text/plain": [
       "(['Gender',\n",
       "  'Married',\n",
       "  'Dependents',\n",
       "  'Education',\n",
       "  'Self_Employed',\n",
       "  'Property_Area'],\n",
       " ['ApplicantIncome', 'CoapplicantIncome', 'LoanAmount', 'Credit_History'])"
      ]
     },
     "execution_count": 91,
     "metadata": {},
     "output_type": "execute_result"
    }
   ],
   "source": [
    "from PM12 import catcon\n",
    "catcon(X_trd)"
   ]
  },
  {
   "cell_type": "code",
   "execution_count": 92,
   "id": "e21fcdcd",
   "metadata": {},
   "outputs": [],
   "source": [
    "from sklearn.preprocessing import MinMaxScaler\n",
    "mm = MinMaxScaler()\n",
    "x1_trd = pd.DataFrame(mm.fit_transform(X_trd[con]),columns=con)\n",
    "x2_trd = pd.get_dummies(X_trd[cat])\n",
    "Xnew_trd = x1_trd.join(x2_trd)"
   ]
  },
  {
   "cell_type": "code",
   "execution_count": 93,
   "id": "d38e0b6d",
   "metadata": {},
   "outputs": [],
   "source": [
    "from sklearn.model_selection import train_test_split\n",
    "xtrain,xtest,ytrain,ytest=train_test_split(Xnew_trd,Y_trd,test_size=0.2,random_state=21)"
   ]
  },
  {
   "cell_type": "markdown",
   "id": "94991c40",
   "metadata": {},
   "source": [
    "# linear regression model"
   ]
  },
  {
   "cell_type": "code",
   "execution_count": 94,
   "id": "5ddf317e",
   "metadata": {},
   "outputs": [
    {
     "data": {
      "text/plain": [
       "(2399.56, 2927.67)"
      ]
     },
     "execution_count": 94,
     "metadata": {},
     "output_type": "execute_result"
    }
   ],
   "source": [
    "from sklearn.linear_model import LinearRegression\n",
    "lm = LinearRegression()\n",
    "modeller(lm)"
   ]
  },
  {
   "cell_type": "markdown",
   "id": "dc3fdc45",
   "metadata": {},
   "source": [
    "# decision tree"
   ]
  },
  {
   "cell_type": "code",
   "execution_count": 95,
   "id": "46b9fa74",
   "metadata": {},
   "outputs": [
    {
     "data": {
      "text/plain": [
       "(2428.25, 3503.81)"
      ]
     },
     "execution_count": 95,
     "metadata": {},
     "output_type": "execute_result"
    }
   ],
   "source": [
    "from sklearn.tree import DecisionTreeRegressor\n",
    "dtr = DecisionTreeRegressor(random_state=21,max_depth=2)\n",
    "modeller(dtr)"
   ]
  },
  {
   "cell_type": "code",
   "execution_count": 96,
   "id": "885d9976",
   "metadata": {},
   "outputs": [
    {
     "data": {
      "text/plain": [
       "(2267.38, 3649.06)"
      ]
     },
     "execution_count": 96,
     "metadata": {},
     "output_type": "execute_result"
    }
   ],
   "source": [
    "from sklearn.tree import DecisionTreeRegressor\n",
    "dtr = DecisionTreeRegressor(random_state=21,max_depth=3)\n",
    "modeller(dtr)"
   ]
  },
  {
   "cell_type": "code",
   "execution_count": 97,
   "id": "20b114f9",
   "metadata": {},
   "outputs": [
    {
     "data": {
      "text/plain": [
       "(2105.68, 4161.1)"
      ]
     },
     "execution_count": 97,
     "metadata": {},
     "output_type": "execute_result"
    }
   ],
   "source": [
    "from sklearn.tree import DecisionTreeRegressor\n",
    "dtr = DecisionTreeRegressor(random_state=21,max_depth=4)\n",
    "modeller(dtr)"
   ]
  },
  {
   "cell_type": "code",
   "execution_count": 98,
   "id": "6c76a7b5",
   "metadata": {},
   "outputs": [
    {
     "data": {
      "text/plain": [
       "(1861.66, 4086.04)"
      ]
     },
     "execution_count": 98,
     "metadata": {},
     "output_type": "execute_result"
    }
   ],
   "source": [
    "from sklearn.tree import DecisionTreeRegressor\n",
    "dtr = DecisionTreeRegressor(random_state=21,max_depth=5)\n",
    "modeller(dtr)"
   ]
  },
  {
   "cell_type": "code",
   "execution_count": 99,
   "id": "aa06a260",
   "metadata": {},
   "outputs": [
    {
     "data": {
      "text/plain": [
       "(982.72, 4314.68)"
      ]
     },
     "execution_count": 99,
     "metadata": {},
     "output_type": "execute_result"
    }
   ],
   "source": [
    "from sklearn.tree import DecisionTreeRegressor\n",
    "dtr = DecisionTreeRegressor(random_state=21,max_depth=8)\n",
    "modeller(dtr)"
   ]
  },
  {
   "cell_type": "markdown",
   "id": "3a8eca25",
   "metadata": {},
   "source": [
    "# Kneighbors regressor(KNN)"
   ]
  },
  {
   "cell_type": "code",
   "execution_count": 100,
   "id": "3ec8db71",
   "metadata": {},
   "outputs": [
    {
     "data": {
      "text/plain": [
       "(1590.91, 3734.69)"
      ]
     },
     "execution_count": 100,
     "metadata": {},
     "output_type": "execute_result"
    }
   ],
   "source": [
    "from sklearn.neighbors import KNeighborsRegressor\n",
    "knr = KNeighborsRegressor(n_neighbors=3)\n",
    "modeller(knr)"
   ]
  },
  {
   "cell_type": "code",
   "execution_count": 101,
   "id": "cbbe8ad5",
   "metadata": {},
   "outputs": [
    {
     "data": {
      "text/plain": [
       "(2272.11, 3014.95)"
      ]
     },
     "execution_count": 101,
     "metadata": {},
     "output_type": "execute_result"
    }
   ],
   "source": [
    "from sklearn.neighbors import KNeighborsRegressor\n",
    "knr = KNeighborsRegressor(n_neighbors=9)\n",
    "modeller(knr)"
   ]
  },
  {
   "cell_type": "code",
   "execution_count": 102,
   "id": "8648ea03",
   "metadata": {},
   "outputs": [
    {
     "data": {
      "text/plain": [
       "(2472.69, 3016.97)"
      ]
     },
     "execution_count": 102,
     "metadata": {},
     "output_type": "execute_result"
    }
   ],
   "source": [
    "from sklearn.neighbors import KNeighborsRegressor\n",
    "knr = KNeighborsRegressor(n_neighbors=39)\n",
    "modeller(knr)"
   ]
  },
  {
   "cell_type": "markdown",
   "id": "2682612c",
   "metadata": {},
   "source": [
    "# Adaboost regressor"
   ]
  },
  {
   "cell_type": "code",
   "execution_count": 103,
   "id": "c5e213b4",
   "metadata": {},
   "outputs": [
    {
     "data": {
      "text/plain": [
       "(2493.65, 3453.5)"
      ]
     },
     "execution_count": 103,
     "metadata": {},
     "output_type": "execute_result"
    }
   ],
   "source": [
    "from sklearn.ensemble import AdaBoostRegressor\n",
    "abr = AdaBoostRegressor(DecisionTreeRegressor(max_depth=2,random_state=21),n_estimators=6)\n",
    "modeller(abr)"
   ]
  },
  {
   "cell_type": "code",
   "execution_count": 105,
   "id": "1c487df7",
   "metadata": {},
   "outputs": [
    {
     "data": {
      "text/plain": [
       "14"
      ]
     },
     "execution_count": 105,
     "metadata": {},
     "output_type": "execute_result"
    }
   ],
   "source": [
    "len(Xnew_tsd.columns)"
   ]
  },
  {
   "cell_type": "code",
   "execution_count": 106,
   "id": "73190ef1",
   "metadata": {},
   "outputs": [
    {
     "data": {
      "text/plain": [
       "19"
      ]
     },
     "execution_count": 106,
     "metadata": {},
     "output_type": "execute_result"
    }
   ],
   "source": [
    "len(Xnew_trd.columns)"
   ]
  },
  {
   "cell_type": "markdown",
   "id": "191fe6af",
   "metadata": {},
   "source": [
    "we need to match columns present in Xnew_tsd and Xnew_trd."
   ]
  },
  {
   "cell_type": "code",
   "execution_count": 108,
   "id": "f8433947",
   "metadata": {},
   "outputs": [
    {
     "ename": "KeyError",
     "evalue": "\"['Gender_Female', 'Dependents_1', 'Dependents_2', 'Self_Employed_Yes', 'Property_Area_Rural'] not in index\"",
     "output_type": "error",
     "traceback": [
      "\u001b[1;31m---------------------------------------------------------------------------\u001b[0m",
      "\u001b[1;31mKeyError\u001b[0m                                  Traceback (most recent call last)",
      "\u001b[1;32m~\\AppData\\Local\\Temp\\ipykernel_7012\\1709093584.py\u001b[0m in \u001b[0;36m<module>\u001b[1;34m\u001b[0m\n\u001b[1;32m----> 1\u001b[1;33m \u001b[0mXnew_tsd\u001b[0m\u001b[1;33m[\u001b[0m\u001b[0mXnew_trd\u001b[0m\u001b[1;33m.\u001b[0m\u001b[0mcolumns\u001b[0m\u001b[1;33m]\u001b[0m\u001b[1;33m\u001b[0m\u001b[1;33m\u001b[0m\u001b[0m\n\u001b[0m",
      "\u001b[1;32mC:\\ProgramData\\Anaconda3\\lib\\site-packages\\pandas\\core\\frame.py\u001b[0m in \u001b[0;36m__getitem__\u001b[1;34m(self, key)\u001b[0m\n\u001b[0;32m   3509\u001b[0m             \u001b[1;32mif\u001b[0m \u001b[0mis_iterator\u001b[0m\u001b[1;33m(\u001b[0m\u001b[0mkey\u001b[0m\u001b[1;33m)\u001b[0m\u001b[1;33m:\u001b[0m\u001b[1;33m\u001b[0m\u001b[1;33m\u001b[0m\u001b[0m\n\u001b[0;32m   3510\u001b[0m                 \u001b[0mkey\u001b[0m \u001b[1;33m=\u001b[0m \u001b[0mlist\u001b[0m\u001b[1;33m(\u001b[0m\u001b[0mkey\u001b[0m\u001b[1;33m)\u001b[0m\u001b[1;33m\u001b[0m\u001b[1;33m\u001b[0m\u001b[0m\n\u001b[1;32m-> 3511\u001b[1;33m             \u001b[0mindexer\u001b[0m \u001b[1;33m=\u001b[0m \u001b[0mself\u001b[0m\u001b[1;33m.\u001b[0m\u001b[0mcolumns\u001b[0m\u001b[1;33m.\u001b[0m\u001b[0m_get_indexer_strict\u001b[0m\u001b[1;33m(\u001b[0m\u001b[0mkey\u001b[0m\u001b[1;33m,\u001b[0m \u001b[1;34m\"columns\"\u001b[0m\u001b[1;33m)\u001b[0m\u001b[1;33m[\u001b[0m\u001b[1;36m1\u001b[0m\u001b[1;33m]\u001b[0m\u001b[1;33m\u001b[0m\u001b[1;33m\u001b[0m\u001b[0m\n\u001b[0m\u001b[0;32m   3512\u001b[0m \u001b[1;33m\u001b[0m\u001b[0m\n\u001b[0;32m   3513\u001b[0m         \u001b[1;31m# take() does not accept boolean indexers\u001b[0m\u001b[1;33m\u001b[0m\u001b[1;33m\u001b[0m\u001b[0m\n",
      "\u001b[1;32mC:\\ProgramData\\Anaconda3\\lib\\site-packages\\pandas\\core\\indexes\\base.py\u001b[0m in \u001b[0;36m_get_indexer_strict\u001b[1;34m(self, key, axis_name)\u001b[0m\n\u001b[0;32m   5794\u001b[0m             \u001b[0mkeyarr\u001b[0m\u001b[1;33m,\u001b[0m \u001b[0mindexer\u001b[0m\u001b[1;33m,\u001b[0m \u001b[0mnew_indexer\u001b[0m \u001b[1;33m=\u001b[0m \u001b[0mself\u001b[0m\u001b[1;33m.\u001b[0m\u001b[0m_reindex_non_unique\u001b[0m\u001b[1;33m(\u001b[0m\u001b[0mkeyarr\u001b[0m\u001b[1;33m)\u001b[0m\u001b[1;33m\u001b[0m\u001b[1;33m\u001b[0m\u001b[0m\n\u001b[0;32m   5795\u001b[0m \u001b[1;33m\u001b[0m\u001b[0m\n\u001b[1;32m-> 5796\u001b[1;33m         \u001b[0mself\u001b[0m\u001b[1;33m.\u001b[0m\u001b[0m_raise_if_missing\u001b[0m\u001b[1;33m(\u001b[0m\u001b[0mkeyarr\u001b[0m\u001b[1;33m,\u001b[0m \u001b[0mindexer\u001b[0m\u001b[1;33m,\u001b[0m \u001b[0maxis_name\u001b[0m\u001b[1;33m)\u001b[0m\u001b[1;33m\u001b[0m\u001b[1;33m\u001b[0m\u001b[0m\n\u001b[0m\u001b[0;32m   5797\u001b[0m \u001b[1;33m\u001b[0m\u001b[0m\n\u001b[0;32m   5798\u001b[0m         \u001b[0mkeyarr\u001b[0m \u001b[1;33m=\u001b[0m \u001b[0mself\u001b[0m\u001b[1;33m.\u001b[0m\u001b[0mtake\u001b[0m\u001b[1;33m(\u001b[0m\u001b[0mindexer\u001b[0m\u001b[1;33m)\u001b[0m\u001b[1;33m\u001b[0m\u001b[1;33m\u001b[0m\u001b[0m\n",
      "\u001b[1;32mC:\\ProgramData\\Anaconda3\\lib\\site-packages\\pandas\\core\\indexes\\base.py\u001b[0m in \u001b[0;36m_raise_if_missing\u001b[1;34m(self, key, indexer, axis_name)\u001b[0m\n\u001b[0;32m   5857\u001b[0m \u001b[1;33m\u001b[0m\u001b[0m\n\u001b[0;32m   5858\u001b[0m             \u001b[0mnot_found\u001b[0m \u001b[1;33m=\u001b[0m \u001b[0mlist\u001b[0m\u001b[1;33m(\u001b[0m\u001b[0mensure_index\u001b[0m\u001b[1;33m(\u001b[0m\u001b[0mkey\u001b[0m\u001b[1;33m)\u001b[0m\u001b[1;33m[\u001b[0m\u001b[0mmissing_mask\u001b[0m\u001b[1;33m.\u001b[0m\u001b[0mnonzero\u001b[0m\u001b[1;33m(\u001b[0m\u001b[1;33m)\u001b[0m\u001b[1;33m[\u001b[0m\u001b[1;36m0\u001b[0m\u001b[1;33m]\u001b[0m\u001b[1;33m]\u001b[0m\u001b[1;33m.\u001b[0m\u001b[0munique\u001b[0m\u001b[1;33m(\u001b[0m\u001b[1;33m)\u001b[0m\u001b[1;33m)\u001b[0m\u001b[1;33m\u001b[0m\u001b[1;33m\u001b[0m\u001b[0m\n\u001b[1;32m-> 5859\u001b[1;33m             \u001b[1;32mraise\u001b[0m \u001b[0mKeyError\u001b[0m\u001b[1;33m(\u001b[0m\u001b[1;34mf\"{not_found} not in index\"\u001b[0m\u001b[1;33m)\u001b[0m\u001b[1;33m\u001b[0m\u001b[1;33m\u001b[0m\u001b[0m\n\u001b[0m\u001b[0;32m   5860\u001b[0m \u001b[1;33m\u001b[0m\u001b[0m\n\u001b[0;32m   5861\u001b[0m     \u001b[1;33m@\u001b[0m\u001b[0moverload\u001b[0m\u001b[1;33m\u001b[0m\u001b[1;33m\u001b[0m\u001b[0m\n",
      "\u001b[1;31mKeyError\u001b[0m: \"['Gender_Female', 'Dependents_1', 'Dependents_2', 'Self_Employed_Yes', 'Property_Area_Rural'] not in index\""
     ]
    }
   ],
   "source": [
    "Xnew_tsd[Xnew_trd.columns]"
   ]
  },
  {
   "cell_type": "code",
   "execution_count": 109,
   "id": "de7a2a38",
   "metadata": {},
   "outputs": [],
   "source": [
    "for i in ['Gender_Female', 'Dependents_1', 'Dependents_2', 'Self_Employed_Yes', 'Property_Area_Rural']:\n",
    "     Xnew_tsd[i]=0"
   ]
  },
  {
   "cell_type": "markdown",
   "id": "5dc949e9",
   "metadata": {},
   "source": [
    " we got Kneighbors model is the best model .on the basis of kNN model we make prdictions"
   ]
  },
  {
   "cell_type": "code",
   "execution_count": 110,
   "id": "8be127d8",
   "metadata": {},
   "outputs": [
    {
     "name": "stdout",
     "output_type": "stream",
     "text": [
      "360.0\n",
      "240.0\n",
      "300.0\n",
      "340.0\n",
      "400.0\n"
     ]
    }
   ],
   "source": [
    "knr = KNeighborsRegressor(n_neighbors=3)\n",
    "model=knr.fit(Xnew_trd,Y_trd)\n",
    "\n",
    "\n",
    "for i in model.predict(Xnew_tsd):\n",
    "     print(i[0])\n",
    "    "
   ]
  },
  {
   "cell_type": "code",
   "execution_count": 113,
   "id": "b200ef37",
   "metadata": {},
   "outputs": [
    {
     "data": {
      "text/plain": [
       "360.0    492\n",
       "180.0     41\n",
       "342.0     14\n",
       "480.0     14\n",
       "300.0     12\n",
       "240.0      4\n",
       "Name: Loan_Amount_Term, dtype: int64"
      ]
     },
     "execution_count": 113,
     "metadata": {},
     "output_type": "execute_result"
    }
   ],
   "source": [
    "Y_trd.Loan_Amount_Term.value_counts()"
   ]
  },
  {
   "cell_type": "code",
   "execution_count": null,
   "id": "f6d8bf25",
   "metadata": {},
   "outputs": [],
   "source": [
    "    "
   ]
  }
 ],
 "metadata": {
  "kernelspec": {
   "display_name": "Python 3 (ipykernel)",
   "language": "python",
   "name": "python3"
  },
  "language_info": {
   "codemirror_mode": {
    "name": "ipython",
    "version": 3
   },
   "file_extension": ".py",
   "mimetype": "text/x-python",
   "name": "python",
   "nbconvert_exporter": "python",
   "pygments_lexer": "ipython3",
   "version": "3.9.13"
  }
 },
 "nbformat": 4,
 "nbformat_minor": 5
}
